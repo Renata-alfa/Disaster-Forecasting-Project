{
  "nbformat": 4,
  "nbformat_minor": 0,
  "metadata": {
    "colab": {
      "provenance": [],
      "toc_visible": true
    },
    "kernelspec": {
      "name": "python3",
      "display_name": "Python 3"
    },
    "language_info": {
      "name": "python"
    }
  },
  "cells": [
    {
      "cell_type": "code",
      "execution_count": null,
      "metadata": {
        "id": "RTW4qQl455aT"
      },
      "outputs": [],
      "source": [
        "import os\n",
        "#'OS' permite manipular pastas, arquivos, executar comandos do sistema e gerenciar processos\n",
        "import pandas as pd\n",
        "import numpy as np\n",
        "from google.colab import drive\n",
        "import time\n",
        "\n",
        "#para construção de modelo tensorflow\n",
        "#o tensorflow para criar , treinar e implantar modelos de aprendizado de maquina\n",
        "import tensorflow as tf\n",
        "from tensorflow import keras\n",
        "#keras para a criação de modelos de aprendizado profundo, tarefas como classificação de imagens, detecção de objetos e regressão.\n",
        "from tensorflow.keras.preprocessing import image\n",
        "from tensorflow.keras.preprocessing.image import load_img, img_to_array\n",
        "from tensorflow.keras.models import Sequential\n",
        "from tensorflow.keras.layers import Conv2D, MaxPooling2D, Flatten, Dense\n",
        "import matplotlib.pyplot as plt\n",
        "\n",
        "from sklearn.model_selection import train_test_split\n",
        "from sklearn.feature_extraction.text import TfidfVectorizer\n",
        "#TfidfVectorizer para converter os textos em vetores numéricos.\n",
        "from sklearn.ensemble import RandomForestClassifier\n",
        "from sklearn.pipeline import make_pipeline\n",
        "from sklearn.metrics import accuracy_score, classification_report\n",
        "from sklearn.metrics import classification_report, confusion_matrix\n",
        "import seaborn as sns\n",
        "\n",
        "import requests\n",
        "from io import BytesIO\n",
        "#pillow ou opencv para manipulação de imgs\n",
        "from PIL import Image\n",
        "\n"
      ]
    },
    {
      "cell_type": "markdown",
      "source": [
        "## Etapas para treinamento da RN\n",
        "1.   Carregamento e preparação dos dados: Importar o dataset e dividir em conjuntos de treino e teste.\n",
        "2.  Construção do modelo: Criar uma rede neural sequencial com camadas densas.\n",
        "3.  Compilação do modelo: Definir a função de perda, otimizador e métricas de avaliação.\n",
        "4.  Treinamento do modelo: Ajustar o modelo aos dados de treino.\n",
        "5.  Avaliação do modelo: Testar a precisão do modelo com os dados de teste.\n",
        "6.  Fazer previsões: Usar o modelo treinado para classificar novas imagens.\n"
      ],
      "metadata": {
        "id": "a3YPzor9i9zC"
      }
    },
    {
      "cell_type": "markdown",
      "source": [
        "#1.Carregamento e Preparação dos dados"
      ],
      "metadata": {
        "id": "07vy6FhZNx8L"
      }
    },
    {
      "cell_type": "markdown",
      "source": [],
      "metadata": {
        "id": "hZ9F9nZ-KyZJ"
      }
    },
    {
      "cell_type": "markdown",
      "source": [
        "##a - montar o meu google drive\n",
        "\n"
      ],
      "metadata": {
        "id": "K7A0nW7WZFB1"
      }
    },
    {
      "cell_type": "code",
      "source": [
        "drive.mount('/content/drive')"
      ],
      "metadata": {
        "colab": {
          "base_uri": "https://localhost:8080/"
        },
        "id": "tD7IUuMfZ1RK",
        "outputId": "53e0aeed-c686-44a3-ea64-cbf88b0fb87c"
      },
      "execution_count": null,
      "outputs": [
        {
          "output_type": "stream",
          "name": "stdout",
          "text": [
            "Drive already mounted at /content/drive; to attempt to forcibly remount, call drive.mount(\"/content/drive\", force_remount=True).\n"
          ]
        }
      ]
    },
    {
      "cell_type": "markdown",
      "source": [
        "##b - Definir o caminho do diretório onde suas imagens estão armazenadas no Google Drive\n"
      ],
      "metadata": {
        "id": "1fKjk4_sZYwB"
      }
    },
    {
      "cell_type": "code",
      "source": [
        "image_dir = '/content/drive/My Drive/Colab Notebooks/Dataset_Arvores/'\n",
        "image_dir"
      ],
      "metadata": {
        "colab": {
          "base_uri": "https://localhost:8080/",
          "height": 36
        },
        "id": "A-g6axKnZ8wz",
        "outputId": "1e8a3bbe-cc05-4011-cbbb-7109586e77d4"
      },
      "execution_count": null,
      "outputs": [
        {
          "output_type": "execute_result",
          "data": {
            "text/plain": [
              "'/content/drive/My Drive/Colab Notebooks/Dataset_Arvores/'"
            ],
            "application/vnd.google.colaboratory.intrinsic+json": {
              "type": "string"
            }
          },
          "metadata": {},
          "execution_count": 69
        }
      ]
    },
    {
      "cell_type": "markdown",
      "source": [
        "##c - Carregar o meu CSV"
      ],
      "metadata": {
        "id": "Wp_K-inULJh7"
      }
    },
    {
      "cell_type": "code",
      "source": [
        "df_Arvores = pd.read_csv('/content/drive/My Drive/Colab Notebooks/catalogo.csv',encoding='utf-8' , sep=';')\n",
        "#remover linhas vazias\n",
        "df_Arvores = df_Arvores.dropna()\n",
        "df_Arvores"
      ],
      "metadata": {
        "id": "Kj1LU0re7SIX",
        "colab": {
          "base_uri": "https://localhost:8080/",
          "height": 423
        },
        "outputId": "fa00e18a-ebcd-42a7-8eb5-fbf999b238e9"
      },
      "execution_count": null,
      "outputs": [
        {
          "output_type": "execute_result",
          "data": {
            "text/plain": [
              "       nome                          url  \\\n",
              "0   tree_01  Dataset_Arvores\\tree_01.jpg   \n",
              "1   tree_02  Dataset_Arvores\\tree_02.jpg   \n",
              "2   tree_03  Dataset_Arvores\\tree_03.jpg   \n",
              "3   tree_04  Dataset_Arvores\\tree_04.jpg   \n",
              "4   tree_05  Dataset_Arvores\\tree_05.jpg   \n",
              "..      ...                          ...   \n",
              "75  tree_76  Dataset_Arvores\\tree_76.jpg   \n",
              "76  tree_77  Dataset_Arvores\\tree_77.jpg   \n",
              "77  tree_78  Dataset_Arvores\\tree_78.jpg   \n",
              "78  tree_79  Dataset_Arvores\\tree_79.jpg   \n",
              "79  tree_80  Dataset_Arvores\\tree_80.jpg   \n",
              "\n",
              "                                       descrição  target  \n",
              "0                          arvore saudavel de pe       1  \n",
              "1                arvore saudavel de pe invertida       1  \n",
              "2                          arvore saudavel de pe       1  \n",
              "3                          arvore saudavel de pe       1  \n",
              "4                          arvore saudavel de pe       1  \n",
              "..                                           ...     ...  \n",
              "75  arvore em pe com galhos inclinados invertida       3  \n",
              "76  arvore em pe com galhos inclinados invertida       3  \n",
              "77            arvore em pe com galhos inclinados       3  \n",
              "78            arvore em pe com galhos inclinados       3  \n",
              "79                         arvore saudavel de pe       1  \n",
              "\n",
              "[80 rows x 4 columns]"
            ],
            "text/html": [
              "\n",
              "  <div id=\"df-e1ff2ead-1615-447e-9b28-e988e0a1c058\" class=\"colab-df-container\">\n",
              "    <div>\n",
              "<style scoped>\n",
              "    .dataframe tbody tr th:only-of-type {\n",
              "        vertical-align: middle;\n",
              "    }\n",
              "\n",
              "    .dataframe tbody tr th {\n",
              "        vertical-align: top;\n",
              "    }\n",
              "\n",
              "    .dataframe thead th {\n",
              "        text-align: right;\n",
              "    }\n",
              "</style>\n",
              "<table border=\"1\" class=\"dataframe\">\n",
              "  <thead>\n",
              "    <tr style=\"text-align: right;\">\n",
              "      <th></th>\n",
              "      <th>nome</th>\n",
              "      <th>url</th>\n",
              "      <th>descrição</th>\n",
              "      <th>target</th>\n",
              "    </tr>\n",
              "  </thead>\n",
              "  <tbody>\n",
              "    <tr>\n",
              "      <th>0</th>\n",
              "      <td>tree_01</td>\n",
              "      <td>Dataset_Arvores\\tree_01.jpg</td>\n",
              "      <td>arvore saudavel de pe</td>\n",
              "      <td>1</td>\n",
              "    </tr>\n",
              "    <tr>\n",
              "      <th>1</th>\n",
              "      <td>tree_02</td>\n",
              "      <td>Dataset_Arvores\\tree_02.jpg</td>\n",
              "      <td>arvore saudavel de pe invertida</td>\n",
              "      <td>1</td>\n",
              "    </tr>\n",
              "    <tr>\n",
              "      <th>2</th>\n",
              "      <td>tree_03</td>\n",
              "      <td>Dataset_Arvores\\tree_03.jpg</td>\n",
              "      <td>arvore saudavel de pe</td>\n",
              "      <td>1</td>\n",
              "    </tr>\n",
              "    <tr>\n",
              "      <th>3</th>\n",
              "      <td>tree_04</td>\n",
              "      <td>Dataset_Arvores\\tree_04.jpg</td>\n",
              "      <td>arvore saudavel de pe</td>\n",
              "      <td>1</td>\n",
              "    </tr>\n",
              "    <tr>\n",
              "      <th>4</th>\n",
              "      <td>tree_05</td>\n",
              "      <td>Dataset_Arvores\\tree_05.jpg</td>\n",
              "      <td>arvore saudavel de pe</td>\n",
              "      <td>1</td>\n",
              "    </tr>\n",
              "    <tr>\n",
              "      <th>...</th>\n",
              "      <td>...</td>\n",
              "      <td>...</td>\n",
              "      <td>...</td>\n",
              "      <td>...</td>\n",
              "    </tr>\n",
              "    <tr>\n",
              "      <th>75</th>\n",
              "      <td>tree_76</td>\n",
              "      <td>Dataset_Arvores\\tree_76.jpg</td>\n",
              "      <td>arvore em pe com galhos inclinados invertida</td>\n",
              "      <td>3</td>\n",
              "    </tr>\n",
              "    <tr>\n",
              "      <th>76</th>\n",
              "      <td>tree_77</td>\n",
              "      <td>Dataset_Arvores\\tree_77.jpg</td>\n",
              "      <td>arvore em pe com galhos inclinados invertida</td>\n",
              "      <td>3</td>\n",
              "    </tr>\n",
              "    <tr>\n",
              "      <th>77</th>\n",
              "      <td>tree_78</td>\n",
              "      <td>Dataset_Arvores\\tree_78.jpg</td>\n",
              "      <td>arvore em pe com galhos inclinados</td>\n",
              "      <td>3</td>\n",
              "    </tr>\n",
              "    <tr>\n",
              "      <th>78</th>\n",
              "      <td>tree_79</td>\n",
              "      <td>Dataset_Arvores\\tree_79.jpg</td>\n",
              "      <td>arvore em pe com galhos inclinados</td>\n",
              "      <td>3</td>\n",
              "    </tr>\n",
              "    <tr>\n",
              "      <th>79</th>\n",
              "      <td>tree_80</td>\n",
              "      <td>Dataset_Arvores\\tree_80.jpg</td>\n",
              "      <td>arvore saudavel de pe</td>\n",
              "      <td>1</td>\n",
              "    </tr>\n",
              "  </tbody>\n",
              "</table>\n",
              "<p>80 rows × 4 columns</p>\n",
              "</div>\n",
              "    <div class=\"colab-df-buttons\">\n",
              "\n",
              "  <div class=\"colab-df-container\">\n",
              "    <button class=\"colab-df-convert\" onclick=\"convertToInteractive('df-e1ff2ead-1615-447e-9b28-e988e0a1c058')\"\n",
              "            title=\"Convert this dataframe to an interactive table.\"\n",
              "            style=\"display:none;\">\n",
              "\n",
              "  <svg xmlns=\"http://www.w3.org/2000/svg\" height=\"24px\" viewBox=\"0 -960 960 960\">\n",
              "    <path d=\"M120-120v-720h720v720H120Zm60-500h600v-160H180v160Zm220 220h160v-160H400v160Zm0 220h160v-160H400v160ZM180-400h160v-160H180v160Zm440 0h160v-160H620v160ZM180-180h160v-160H180v160Zm440 0h160v-160H620v160Z\"/>\n",
              "  </svg>\n",
              "    </button>\n",
              "\n",
              "  <style>\n",
              "    .colab-df-container {\n",
              "      display:flex;\n",
              "      gap: 12px;\n",
              "    }\n",
              "\n",
              "    .colab-df-convert {\n",
              "      background-color: #E8F0FE;\n",
              "      border: none;\n",
              "      border-radius: 50%;\n",
              "      cursor: pointer;\n",
              "      display: none;\n",
              "      fill: #1967D2;\n",
              "      height: 32px;\n",
              "      padding: 0 0 0 0;\n",
              "      width: 32px;\n",
              "    }\n",
              "\n",
              "    .colab-df-convert:hover {\n",
              "      background-color: #E2EBFA;\n",
              "      box-shadow: 0px 1px 2px rgba(60, 64, 67, 0.3), 0px 1px 3px 1px rgba(60, 64, 67, 0.15);\n",
              "      fill: #174EA6;\n",
              "    }\n",
              "\n",
              "    .colab-df-buttons div {\n",
              "      margin-bottom: 4px;\n",
              "    }\n",
              "\n",
              "    [theme=dark] .colab-df-convert {\n",
              "      background-color: #3B4455;\n",
              "      fill: #D2E3FC;\n",
              "    }\n",
              "\n",
              "    [theme=dark] .colab-df-convert:hover {\n",
              "      background-color: #434B5C;\n",
              "      box-shadow: 0px 1px 3px 1px rgba(0, 0, 0, 0.15);\n",
              "      filter: drop-shadow(0px 1px 2px rgba(0, 0, 0, 0.3));\n",
              "      fill: #FFFFFF;\n",
              "    }\n",
              "  </style>\n",
              "\n",
              "    <script>\n",
              "      const buttonEl =\n",
              "        document.querySelector('#df-e1ff2ead-1615-447e-9b28-e988e0a1c058 button.colab-df-convert');\n",
              "      buttonEl.style.display =\n",
              "        google.colab.kernel.accessAllowed ? 'block' : 'none';\n",
              "\n",
              "      async function convertToInteractive(key) {\n",
              "        const element = document.querySelector('#df-e1ff2ead-1615-447e-9b28-e988e0a1c058');\n",
              "        const dataTable =\n",
              "          await google.colab.kernel.invokeFunction('convertToInteractive',\n",
              "                                                    [key], {});\n",
              "        if (!dataTable) return;\n",
              "\n",
              "        const docLinkHtml = 'Like what you see? Visit the ' +\n",
              "          '<a target=\"_blank\" href=https://colab.research.google.com/notebooks/data_table.ipynb>data table notebook</a>'\n",
              "          + ' to learn more about interactive tables.';\n",
              "        element.innerHTML = '';\n",
              "        dataTable['output_type'] = 'display_data';\n",
              "        await google.colab.output.renderOutput(dataTable, element);\n",
              "        const docLink = document.createElement('div');\n",
              "        docLink.innerHTML = docLinkHtml;\n",
              "        element.appendChild(docLink);\n",
              "      }\n",
              "    </script>\n",
              "  </div>\n",
              "\n",
              "\n",
              "<div id=\"df-36f8ef1b-82f9-4c82-b8b6-901c47d77a75\">\n",
              "  <button class=\"colab-df-quickchart\" onclick=\"quickchart('df-36f8ef1b-82f9-4c82-b8b6-901c47d77a75')\"\n",
              "            title=\"Suggest charts\"\n",
              "            style=\"display:none;\">\n",
              "\n",
              "<svg xmlns=\"http://www.w3.org/2000/svg\" height=\"24px\"viewBox=\"0 0 24 24\"\n",
              "     width=\"24px\">\n",
              "    <g>\n",
              "        <path d=\"M19 3H5c-1.1 0-2 .9-2 2v14c0 1.1.9 2 2 2h14c1.1 0 2-.9 2-2V5c0-1.1-.9-2-2-2zM9 17H7v-7h2v7zm4 0h-2V7h2v10zm4 0h-2v-4h2v4z\"/>\n",
              "    </g>\n",
              "</svg>\n",
              "  </button>\n",
              "\n",
              "<style>\n",
              "  .colab-df-quickchart {\n",
              "      --bg-color: #E8F0FE;\n",
              "      --fill-color: #1967D2;\n",
              "      --hover-bg-color: #E2EBFA;\n",
              "      --hover-fill-color: #174EA6;\n",
              "      --disabled-fill-color: #AAA;\n",
              "      --disabled-bg-color: #DDD;\n",
              "  }\n",
              "\n",
              "  [theme=dark] .colab-df-quickchart {\n",
              "      --bg-color: #3B4455;\n",
              "      --fill-color: #D2E3FC;\n",
              "      --hover-bg-color: #434B5C;\n",
              "      --hover-fill-color: #FFFFFF;\n",
              "      --disabled-bg-color: #3B4455;\n",
              "      --disabled-fill-color: #666;\n",
              "  }\n",
              "\n",
              "  .colab-df-quickchart {\n",
              "    background-color: var(--bg-color);\n",
              "    border: none;\n",
              "    border-radius: 50%;\n",
              "    cursor: pointer;\n",
              "    display: none;\n",
              "    fill: var(--fill-color);\n",
              "    height: 32px;\n",
              "    padding: 0;\n",
              "    width: 32px;\n",
              "  }\n",
              "\n",
              "  .colab-df-quickchart:hover {\n",
              "    background-color: var(--hover-bg-color);\n",
              "    box-shadow: 0 1px 2px rgba(60, 64, 67, 0.3), 0 1px 3px 1px rgba(60, 64, 67, 0.15);\n",
              "    fill: var(--button-hover-fill-color);\n",
              "  }\n",
              "\n",
              "  .colab-df-quickchart-complete:disabled,\n",
              "  .colab-df-quickchart-complete:disabled:hover {\n",
              "    background-color: var(--disabled-bg-color);\n",
              "    fill: var(--disabled-fill-color);\n",
              "    box-shadow: none;\n",
              "  }\n",
              "\n",
              "  .colab-df-spinner {\n",
              "    border: 2px solid var(--fill-color);\n",
              "    border-color: transparent;\n",
              "    border-bottom-color: var(--fill-color);\n",
              "    animation:\n",
              "      spin 1s steps(1) infinite;\n",
              "  }\n",
              "\n",
              "  @keyframes spin {\n",
              "    0% {\n",
              "      border-color: transparent;\n",
              "      border-bottom-color: var(--fill-color);\n",
              "      border-left-color: var(--fill-color);\n",
              "    }\n",
              "    20% {\n",
              "      border-color: transparent;\n",
              "      border-left-color: var(--fill-color);\n",
              "      border-top-color: var(--fill-color);\n",
              "    }\n",
              "    30% {\n",
              "      border-color: transparent;\n",
              "      border-left-color: var(--fill-color);\n",
              "      border-top-color: var(--fill-color);\n",
              "      border-right-color: var(--fill-color);\n",
              "    }\n",
              "    40% {\n",
              "      border-color: transparent;\n",
              "      border-right-color: var(--fill-color);\n",
              "      border-top-color: var(--fill-color);\n",
              "    }\n",
              "    60% {\n",
              "      border-color: transparent;\n",
              "      border-right-color: var(--fill-color);\n",
              "    }\n",
              "    80% {\n",
              "      border-color: transparent;\n",
              "      border-right-color: var(--fill-color);\n",
              "      border-bottom-color: var(--fill-color);\n",
              "    }\n",
              "    90% {\n",
              "      border-color: transparent;\n",
              "      border-bottom-color: var(--fill-color);\n",
              "    }\n",
              "  }\n",
              "</style>\n",
              "\n",
              "  <script>\n",
              "    async function quickchart(key) {\n",
              "      const quickchartButtonEl =\n",
              "        document.querySelector('#' + key + ' button');\n",
              "      quickchartButtonEl.disabled = true;  // To prevent multiple clicks.\n",
              "      quickchartButtonEl.classList.add('colab-df-spinner');\n",
              "      try {\n",
              "        const charts = await google.colab.kernel.invokeFunction(\n",
              "            'suggestCharts', [key], {});\n",
              "      } catch (error) {\n",
              "        console.error('Error during call to suggestCharts:', error);\n",
              "      }\n",
              "      quickchartButtonEl.classList.remove('colab-df-spinner');\n",
              "      quickchartButtonEl.classList.add('colab-df-quickchart-complete');\n",
              "    }\n",
              "    (() => {\n",
              "      let quickchartButtonEl =\n",
              "        document.querySelector('#df-36f8ef1b-82f9-4c82-b8b6-901c47d77a75 button');\n",
              "      quickchartButtonEl.style.display =\n",
              "        google.colab.kernel.accessAllowed ? 'block' : 'none';\n",
              "    })();\n",
              "  </script>\n",
              "</div>\n",
              "\n",
              "  <div id=\"id_635f0b00-6980-4ee7-9772-499ead7526e9\">\n",
              "    <style>\n",
              "      .colab-df-generate {\n",
              "        background-color: #E8F0FE;\n",
              "        border: none;\n",
              "        border-radius: 50%;\n",
              "        cursor: pointer;\n",
              "        display: none;\n",
              "        fill: #1967D2;\n",
              "        height: 32px;\n",
              "        padding: 0 0 0 0;\n",
              "        width: 32px;\n",
              "      }\n",
              "\n",
              "      .colab-df-generate:hover {\n",
              "        background-color: #E2EBFA;\n",
              "        box-shadow: 0px 1px 2px rgba(60, 64, 67, 0.3), 0px 1px 3px 1px rgba(60, 64, 67, 0.15);\n",
              "        fill: #174EA6;\n",
              "      }\n",
              "\n",
              "      [theme=dark] .colab-df-generate {\n",
              "        background-color: #3B4455;\n",
              "        fill: #D2E3FC;\n",
              "      }\n",
              "\n",
              "      [theme=dark] .colab-df-generate:hover {\n",
              "        background-color: #434B5C;\n",
              "        box-shadow: 0px 1px 3px 1px rgba(0, 0, 0, 0.15);\n",
              "        filter: drop-shadow(0px 1px 2px rgba(0, 0, 0, 0.3));\n",
              "        fill: #FFFFFF;\n",
              "      }\n",
              "    </style>\n",
              "    <button class=\"colab-df-generate\" onclick=\"generateWithVariable('df_Arvores')\"\n",
              "            title=\"Generate code using this dataframe.\"\n",
              "            style=\"display:none;\">\n",
              "\n",
              "  <svg xmlns=\"http://www.w3.org/2000/svg\" height=\"24px\"viewBox=\"0 0 24 24\"\n",
              "       width=\"24px\">\n",
              "    <path d=\"M7,19H8.4L18.45,9,17,7.55,7,17.6ZM5,21V16.75L18.45,3.32a2,2,0,0,1,2.83,0l1.4,1.43a1.91,1.91,0,0,1,.58,1.4,1.91,1.91,0,0,1-.58,1.4L9.25,21ZM18.45,9,17,7.55Zm-12,3A5.31,5.31,0,0,0,4.9,8.1,5.31,5.31,0,0,0,1,6.5,5.31,5.31,0,0,0,4.9,4.9,5.31,5.31,0,0,0,6.5,1,5.31,5.31,0,0,0,8.1,4.9,5.31,5.31,0,0,0,12,6.5,5.46,5.46,0,0,0,6.5,12Z\"/>\n",
              "  </svg>\n",
              "    </button>\n",
              "    <script>\n",
              "      (() => {\n",
              "      const buttonEl =\n",
              "        document.querySelector('#id_635f0b00-6980-4ee7-9772-499ead7526e9 button.colab-df-generate');\n",
              "      buttonEl.style.display =\n",
              "        google.colab.kernel.accessAllowed ? 'block' : 'none';\n",
              "\n",
              "      buttonEl.onclick = () => {\n",
              "        google.colab.notebook.generateWithVariable('df_Arvores');\n",
              "      }\n",
              "      })();\n",
              "    </script>\n",
              "  </div>\n",
              "\n",
              "    </div>\n",
              "  </div>\n"
            ],
            "application/vnd.google.colaboratory.intrinsic+json": {
              "type": "dataframe",
              "variable_name": "df_Arvores",
              "summary": "{\n  \"name\": \"df_Arvores\",\n  \"rows\": 80,\n  \"fields\": [\n    {\n      \"column\": \"nome\",\n      \"properties\": {\n        \"dtype\": \"string\",\n        \"num_unique_values\": 80,\n        \"samples\": [\n          \"tree_31\",\n          \"tree_01\",\n          \"tree_23\"\n        ],\n        \"semantic_type\": \"\",\n        \"description\": \"\"\n      }\n    },\n    {\n      \"column\": \"url\",\n      \"properties\": {\n        \"dtype\": \"string\",\n        \"num_unique_values\": 80,\n        \"samples\": [\n          \"Dataset_Arvores\\\\tree_31.jpg\",\n          \"Dataset_Arvores\\\\tree_01.jpg\",\n          \"Dataset_Arvores\\\\tree_23.jpg\"\n        ],\n        \"semantic_type\": \"\",\n        \"description\": \"\"\n      }\n    },\n    {\n      \"column\": \"descri\\u00e7\\u00e3o\",\n      \"properties\": {\n        \"dtype\": \"category\",\n        \"num_unique_values\": 11,\n        \"samples\": [\n          \"suricato\",\n          \"arvore saudavel de pe\",\n          \"arvore de pe com raiz sufocada\"\n        ],\n        \"semantic_type\": \"\",\n        \"description\": \"\"\n      }\n    },\n    {\n      \"column\": \"target\",\n      \"properties\": {\n        \"dtype\": \"number\",\n        \"std\": 1,\n        \"min\": 0,\n        \"max\": 5,\n        \"num_unique_values\": 6,\n        \"samples\": [\n          1,\n          5,\n          2\n        ],\n        \"semantic_type\": \"\",\n        \"description\": \"\"\n      }\n    }\n  ]\n}"
            }
          },
          "metadata": {},
          "execution_count": 70
        }
      ]
    },
    {
      "cell_type": "markdown",
      "source": [
        "##d - Ajustar o caminho das imagens no DataFrame"
      ],
      "metadata": {
        "id": "km3wx9knLeLO"
      }
    },
    {
      "cell_type": "code",
      "source": [
        "\n",
        "#df_Arvores['url'] = df_Arvores['url'].apply(lambda x: x.replace('\\\\', '/'))"
      ],
      "metadata": {
        "id": "kbMQifoqWnMO"
      },
      "execution_count": null,
      "outputs": []
    },
    {
      "cell_type": "markdown",
      "source": [
        "##e - Adicionar o caminho completo das imagens"
      ],
      "metadata": {
        "id": "F6vDtSZdL5X4"
      }
    },
    {
      "cell_type": "code",
      "source": [
        "df_Arvores['image_path'] = df_Arvores['url'].apply(lambda x: os.path.join(image_dir, os.path.basename(x)))"
      ],
      "metadata": {
        "id": "V63NJ9mVLuBi"
      },
      "execution_count": null,
      "outputs": []
    },
    {
      "cell_type": "markdown",
      "source": [],
      "metadata": {
        "id": "eY4eO0xeLtXD"
      }
    },
    {
      "cell_type": "markdown",
      "source": [
        "##f - Remover colunas desnecessárias"
      ],
      "metadata": {
        "id": "CUuUIOAyCRqw"
      }
    },
    {
      "cell_type": "code",
      "source": [
        "#df_Arvores = df_Arvores.drop(columns=['Unnamed: 4'])"
      ],
      "metadata": {
        "id": "9nDOB8aWMQPm"
      },
      "execution_count": null,
      "outputs": []
    },
    {
      "cell_type": "markdown",
      "source": [
        "##g - Verificar o DataFrame ajustado"
      ],
      "metadata": {
        "id": "cvz_HrNNMjnD"
      }
    },
    {
      "cell_type": "code",
      "source": [
        "print(df_Arvores.head())\n",
        "print(df_Arvores.columns)"
      ],
      "metadata": {
        "id": "XpiljFqkMnuy",
        "colab": {
          "base_uri": "https://localhost:8080/"
        },
        "outputId": "9f031302-159f-436b-ac22-7dc6a84f7d06"
      },
      "execution_count": null,
      "outputs": [
        {
          "output_type": "stream",
          "name": "stdout",
          "text": [
            "      nome                          url                        descrição  \\\n",
            "0  tree_01  Dataset_Arvores\\tree_01.jpg            arvore saudavel de pe   \n",
            "1  tree_02  Dataset_Arvores\\tree_02.jpg  arvore saudavel de pe invertida   \n",
            "2  tree_03  Dataset_Arvores\\tree_03.jpg            arvore saudavel de pe   \n",
            "3  tree_04  Dataset_Arvores\\tree_04.jpg            arvore saudavel de pe   \n",
            "4  tree_05  Dataset_Arvores\\tree_05.jpg            arvore saudavel de pe   \n",
            "\n",
            "   target                                         image_path  \n",
            "0       1  /content/drive/My Drive/Colab Notebooks/Datase...  \n",
            "1       1  /content/drive/My Drive/Colab Notebooks/Datase...  \n",
            "2       1  /content/drive/My Drive/Colab Notebooks/Datase...  \n",
            "3       1  /content/drive/My Drive/Colab Notebooks/Datase...  \n",
            "4       1  /content/drive/My Drive/Colab Notebooks/Datase...  \n",
            "Index(['nome', 'url', 'descrição', 'target', 'image_path'], dtype='object')\n"
          ]
        }
      ]
    },
    {
      "cell_type": "markdown",
      "source": [
        "##h - Dividir as características e os valores de target\n"
      ],
      "metadata": {
        "id": "14lG1c_vND35"
      }
    },
    {
      "cell_type": "code",
      "source": [
        "caracteristica = df_Arvores[['nome', 'url', 'descrição']].values\n",
        "valoracao = df_Arvores['target'].values"
      ],
      "metadata": {
        "id": "ghPly5S-NFcv"
      },
      "execution_count": null,
      "outputs": []
    },
    {
      "cell_type": "markdown",
      "source": [
        "##i - Dividir os dados em conjuntos de treino e teste\n"
      ],
      "metadata": {
        "id": "6uXen4o3NPBk"
      }
    },
    {
      "cell_type": "code",
      "source": [
        "train_caracteristica, test_caracteristica, train_valoracao, test_valoracao = train_test_split(caracteristica, valoracao, test_size=0.2, random_state=42)\n"
      ],
      "metadata": {
        "id": "FoxwYpRiNovy"
      },
      "execution_count": null,
      "outputs": []
    },
    {
      "cell_type": "code",
      "source": [
        "# Concatenando texto das características para o modelo de texto\n",
        "train_text = train_caracteristica[:, 0] + ' ' + train_caracteristica[:, 1] + ' ' + train_caracteristica[:, 2]\n",
        "test_text = test_caracteristica[:, 0] + ' ' + test_caracteristica[:, 1] + ' ' + test_caracteristica[:, 2]\n"
      ],
      "metadata": {
        "id": "IxFsodm6DkTG"
      },
      "execution_count": null,
      "outputs": []
    },
    {
      "cell_type": "markdown",
      "source": [
        "#2.Construção do Modelo"
      ],
      "metadata": {
        "id": "FjnS83OLElg9"
      }
    },
    {
      "cell_type": "markdown",
      "source": [
        "##a - Passo 2: Construir o pipeline de vetorização e modelo"
      ],
      "metadata": {
        "id": "MWXWYI0oEuzI"
      }
    },
    {
      "cell_type": "code",
      "source": [
        "pipeline = make_pipeline(TfidfVectorizer(), RandomForestClassifier(n_estimators=100, random_state=42))"
      ],
      "metadata": {
        "id": "K2z3JwG-bzpx"
      },
      "execution_count": null,
      "outputs": []
    },
    {
      "cell_type": "markdown",
      "source": [
        "##b - Passo 3: Treinar o modelo"
      ],
      "metadata": {
        "id": "WEl7LvUAiXf8"
      }
    },
    {
      "cell_type": "code",
      "source": [
        "pipeline.fit(train_text, train_valoracao)"
      ],
      "metadata": {
        "id": "hg16oXkWE96H",
        "colab": {
          "base_uri": "https://localhost:8080/",
          "height": 142
        },
        "outputId": "39f366e5-92ee-4eeb-b865-46c91d5ab5eb"
      },
      "execution_count": null,
      "outputs": [
        {
          "output_type": "execute_result",
          "data": {
            "text/plain": [
              "Pipeline(steps=[('tfidfvectorizer', TfidfVectorizer()),\n",
              "                ('randomforestclassifier',\n",
              "                 RandomForestClassifier(random_state=42))])"
            ],
            "text/html": [
              "<style>#sk-container-id-2 {\n",
              "  /* Definition of color scheme common for light and dark mode */\n",
              "  --sklearn-color-text: black;\n",
              "  --sklearn-color-line: gray;\n",
              "  /* Definition of color scheme for unfitted estimators */\n",
              "  --sklearn-color-unfitted-level-0: #fff5e6;\n",
              "  --sklearn-color-unfitted-level-1: #f6e4d2;\n",
              "  --sklearn-color-unfitted-level-2: #ffe0b3;\n",
              "  --sklearn-color-unfitted-level-3: chocolate;\n",
              "  /* Definition of color scheme for fitted estimators */\n",
              "  --sklearn-color-fitted-level-0: #f0f8ff;\n",
              "  --sklearn-color-fitted-level-1: #d4ebff;\n",
              "  --sklearn-color-fitted-level-2: #b3dbfd;\n",
              "  --sklearn-color-fitted-level-3: cornflowerblue;\n",
              "\n",
              "  /* Specific color for light theme */\n",
              "  --sklearn-color-text-on-default-background: var(--sg-text-color, var(--theme-code-foreground, var(--jp-content-font-color1, black)));\n",
              "  --sklearn-color-background: var(--sg-background-color, var(--theme-background, var(--jp-layout-color0, white)));\n",
              "  --sklearn-color-border-box: var(--sg-text-color, var(--theme-code-foreground, var(--jp-content-font-color1, black)));\n",
              "  --sklearn-color-icon: #696969;\n",
              "\n",
              "  @media (prefers-color-scheme: dark) {\n",
              "    /* Redefinition of color scheme for dark theme */\n",
              "    --sklearn-color-text-on-default-background: var(--sg-text-color, var(--theme-code-foreground, var(--jp-content-font-color1, white)));\n",
              "    --sklearn-color-background: var(--sg-background-color, var(--theme-background, var(--jp-layout-color0, #111)));\n",
              "    --sklearn-color-border-box: var(--sg-text-color, var(--theme-code-foreground, var(--jp-content-font-color1, white)));\n",
              "    --sklearn-color-icon: #878787;\n",
              "  }\n",
              "}\n",
              "\n",
              "#sk-container-id-2 {\n",
              "  color: var(--sklearn-color-text);\n",
              "}\n",
              "\n",
              "#sk-container-id-2 pre {\n",
              "  padding: 0;\n",
              "}\n",
              "\n",
              "#sk-container-id-2 input.sk-hidden--visually {\n",
              "  border: 0;\n",
              "  clip: rect(1px 1px 1px 1px);\n",
              "  clip: rect(1px, 1px, 1px, 1px);\n",
              "  height: 1px;\n",
              "  margin: -1px;\n",
              "  overflow: hidden;\n",
              "  padding: 0;\n",
              "  position: absolute;\n",
              "  width: 1px;\n",
              "}\n",
              "\n",
              "#sk-container-id-2 div.sk-dashed-wrapped {\n",
              "  border: 1px dashed var(--sklearn-color-line);\n",
              "  margin: 0 0.4em 0.5em 0.4em;\n",
              "  box-sizing: border-box;\n",
              "  padding-bottom: 0.4em;\n",
              "  background-color: var(--sklearn-color-background);\n",
              "}\n",
              "\n",
              "#sk-container-id-2 div.sk-container {\n",
              "  /* jupyter's `normalize.less` sets `[hidden] { display: none; }`\n",
              "     but bootstrap.min.css set `[hidden] { display: none !important; }`\n",
              "     so we also need the `!important` here to be able to override the\n",
              "     default hidden behavior on the sphinx rendered scikit-learn.org.\n",
              "     See: https://github.com/scikit-learn/scikit-learn/issues/21755 */\n",
              "  display: inline-block !important;\n",
              "  position: relative;\n",
              "}\n",
              "\n",
              "#sk-container-id-2 div.sk-text-repr-fallback {\n",
              "  display: none;\n",
              "}\n",
              "\n",
              "div.sk-parallel-item,\n",
              "div.sk-serial,\n",
              "div.sk-item {\n",
              "  /* draw centered vertical line to link estimators */\n",
              "  background-image: linear-gradient(var(--sklearn-color-text-on-default-background), var(--sklearn-color-text-on-default-background));\n",
              "  background-size: 2px 100%;\n",
              "  background-repeat: no-repeat;\n",
              "  background-position: center center;\n",
              "}\n",
              "\n",
              "/* Parallel-specific style estimator block */\n",
              "\n",
              "#sk-container-id-2 div.sk-parallel-item::after {\n",
              "  content: \"\";\n",
              "  width: 100%;\n",
              "  border-bottom: 2px solid var(--sklearn-color-text-on-default-background);\n",
              "  flex-grow: 1;\n",
              "}\n",
              "\n",
              "#sk-container-id-2 div.sk-parallel {\n",
              "  display: flex;\n",
              "  align-items: stretch;\n",
              "  justify-content: center;\n",
              "  background-color: var(--sklearn-color-background);\n",
              "  position: relative;\n",
              "}\n",
              "\n",
              "#sk-container-id-2 div.sk-parallel-item {\n",
              "  display: flex;\n",
              "  flex-direction: column;\n",
              "}\n",
              "\n",
              "#sk-container-id-2 div.sk-parallel-item:first-child::after {\n",
              "  align-self: flex-end;\n",
              "  width: 50%;\n",
              "}\n",
              "\n",
              "#sk-container-id-2 div.sk-parallel-item:last-child::after {\n",
              "  align-self: flex-start;\n",
              "  width: 50%;\n",
              "}\n",
              "\n",
              "#sk-container-id-2 div.sk-parallel-item:only-child::after {\n",
              "  width: 0;\n",
              "}\n",
              "\n",
              "/* Serial-specific style estimator block */\n",
              "\n",
              "#sk-container-id-2 div.sk-serial {\n",
              "  display: flex;\n",
              "  flex-direction: column;\n",
              "  align-items: center;\n",
              "  background-color: var(--sklearn-color-background);\n",
              "  padding-right: 1em;\n",
              "  padding-left: 1em;\n",
              "}\n",
              "\n",
              "\n",
              "/* Toggleable style: style used for estimator/Pipeline/ColumnTransformer box that is\n",
              "clickable and can be expanded/collapsed.\n",
              "- Pipeline and ColumnTransformer use this feature and define the default style\n",
              "- Estimators will overwrite some part of the style using the `sk-estimator` class\n",
              "*/\n",
              "\n",
              "/* Pipeline and ColumnTransformer style (default) */\n",
              "\n",
              "#sk-container-id-2 div.sk-toggleable {\n",
              "  /* Default theme specific background. It is overwritten whether we have a\n",
              "  specific estimator or a Pipeline/ColumnTransformer */\n",
              "  background-color: var(--sklearn-color-background);\n",
              "}\n",
              "\n",
              "/* Toggleable label */\n",
              "#sk-container-id-2 label.sk-toggleable__label {\n",
              "  cursor: pointer;\n",
              "  display: block;\n",
              "  width: 100%;\n",
              "  margin-bottom: 0;\n",
              "  padding: 0.5em;\n",
              "  box-sizing: border-box;\n",
              "  text-align: center;\n",
              "}\n",
              "\n",
              "#sk-container-id-2 label.sk-toggleable__label-arrow:before {\n",
              "  /* Arrow on the left of the label */\n",
              "  content: \"▸\";\n",
              "  float: left;\n",
              "  margin-right: 0.25em;\n",
              "  color: var(--sklearn-color-icon);\n",
              "}\n",
              "\n",
              "#sk-container-id-2 label.sk-toggleable__label-arrow:hover:before {\n",
              "  color: var(--sklearn-color-text);\n",
              "}\n",
              "\n",
              "/* Toggleable content - dropdown */\n",
              "\n",
              "#sk-container-id-2 div.sk-toggleable__content {\n",
              "  max-height: 0;\n",
              "  max-width: 0;\n",
              "  overflow: hidden;\n",
              "  text-align: left;\n",
              "  /* unfitted */\n",
              "  background-color: var(--sklearn-color-unfitted-level-0);\n",
              "}\n",
              "\n",
              "#sk-container-id-2 div.sk-toggleable__content.fitted {\n",
              "  /* fitted */\n",
              "  background-color: var(--sklearn-color-fitted-level-0);\n",
              "}\n",
              "\n",
              "#sk-container-id-2 div.sk-toggleable__content pre {\n",
              "  margin: 0.2em;\n",
              "  border-radius: 0.25em;\n",
              "  color: var(--sklearn-color-text);\n",
              "  /* unfitted */\n",
              "  background-color: var(--sklearn-color-unfitted-level-0);\n",
              "}\n",
              "\n",
              "#sk-container-id-2 div.sk-toggleable__content.fitted pre {\n",
              "  /* unfitted */\n",
              "  background-color: var(--sklearn-color-fitted-level-0);\n",
              "}\n",
              "\n",
              "#sk-container-id-2 input.sk-toggleable__control:checked~div.sk-toggleable__content {\n",
              "  /* Expand drop-down */\n",
              "  max-height: 200px;\n",
              "  max-width: 100%;\n",
              "  overflow: auto;\n",
              "}\n",
              "\n",
              "#sk-container-id-2 input.sk-toggleable__control:checked~label.sk-toggleable__label-arrow:before {\n",
              "  content: \"▾\";\n",
              "}\n",
              "\n",
              "/* Pipeline/ColumnTransformer-specific style */\n",
              "\n",
              "#sk-container-id-2 div.sk-label input.sk-toggleable__control:checked~label.sk-toggleable__label {\n",
              "  color: var(--sklearn-color-text);\n",
              "  background-color: var(--sklearn-color-unfitted-level-2);\n",
              "}\n",
              "\n",
              "#sk-container-id-2 div.sk-label.fitted input.sk-toggleable__control:checked~label.sk-toggleable__label {\n",
              "  background-color: var(--sklearn-color-fitted-level-2);\n",
              "}\n",
              "\n",
              "/* Estimator-specific style */\n",
              "\n",
              "/* Colorize estimator box */\n",
              "#sk-container-id-2 div.sk-estimator input.sk-toggleable__control:checked~label.sk-toggleable__label {\n",
              "  /* unfitted */\n",
              "  background-color: var(--sklearn-color-unfitted-level-2);\n",
              "}\n",
              "\n",
              "#sk-container-id-2 div.sk-estimator.fitted input.sk-toggleable__control:checked~label.sk-toggleable__label {\n",
              "  /* fitted */\n",
              "  background-color: var(--sklearn-color-fitted-level-2);\n",
              "}\n",
              "\n",
              "#sk-container-id-2 div.sk-label label.sk-toggleable__label,\n",
              "#sk-container-id-2 div.sk-label label {\n",
              "  /* The background is the default theme color */\n",
              "  color: var(--sklearn-color-text-on-default-background);\n",
              "}\n",
              "\n",
              "/* On hover, darken the color of the background */\n",
              "#sk-container-id-2 div.sk-label:hover label.sk-toggleable__label {\n",
              "  color: var(--sklearn-color-text);\n",
              "  background-color: var(--sklearn-color-unfitted-level-2);\n",
              "}\n",
              "\n",
              "/* Label box, darken color on hover, fitted */\n",
              "#sk-container-id-2 div.sk-label.fitted:hover label.sk-toggleable__label.fitted {\n",
              "  color: var(--sklearn-color-text);\n",
              "  background-color: var(--sklearn-color-fitted-level-2);\n",
              "}\n",
              "\n",
              "/* Estimator label */\n",
              "\n",
              "#sk-container-id-2 div.sk-label label {\n",
              "  font-family: monospace;\n",
              "  font-weight: bold;\n",
              "  display: inline-block;\n",
              "  line-height: 1.2em;\n",
              "}\n",
              "\n",
              "#sk-container-id-2 div.sk-label-container {\n",
              "  text-align: center;\n",
              "}\n",
              "\n",
              "/* Estimator-specific */\n",
              "#sk-container-id-2 div.sk-estimator {\n",
              "  font-family: monospace;\n",
              "  border: 1px dotted var(--sklearn-color-border-box);\n",
              "  border-radius: 0.25em;\n",
              "  box-sizing: border-box;\n",
              "  margin-bottom: 0.5em;\n",
              "  /* unfitted */\n",
              "  background-color: var(--sklearn-color-unfitted-level-0);\n",
              "}\n",
              "\n",
              "#sk-container-id-2 div.sk-estimator.fitted {\n",
              "  /* fitted */\n",
              "  background-color: var(--sklearn-color-fitted-level-0);\n",
              "}\n",
              "\n",
              "/* on hover */\n",
              "#sk-container-id-2 div.sk-estimator:hover {\n",
              "  /* unfitted */\n",
              "  background-color: var(--sklearn-color-unfitted-level-2);\n",
              "}\n",
              "\n",
              "#sk-container-id-2 div.sk-estimator.fitted:hover {\n",
              "  /* fitted */\n",
              "  background-color: var(--sklearn-color-fitted-level-2);\n",
              "}\n",
              "\n",
              "/* Specification for estimator info (e.g. \"i\" and \"?\") */\n",
              "\n",
              "/* Common style for \"i\" and \"?\" */\n",
              "\n",
              ".sk-estimator-doc-link,\n",
              "a:link.sk-estimator-doc-link,\n",
              "a:visited.sk-estimator-doc-link {\n",
              "  float: right;\n",
              "  font-size: smaller;\n",
              "  line-height: 1em;\n",
              "  font-family: monospace;\n",
              "  background-color: var(--sklearn-color-background);\n",
              "  border-radius: 1em;\n",
              "  height: 1em;\n",
              "  width: 1em;\n",
              "  text-decoration: none !important;\n",
              "  margin-left: 1ex;\n",
              "  /* unfitted */\n",
              "  border: var(--sklearn-color-unfitted-level-1) 1pt solid;\n",
              "  color: var(--sklearn-color-unfitted-level-1);\n",
              "}\n",
              "\n",
              ".sk-estimator-doc-link.fitted,\n",
              "a:link.sk-estimator-doc-link.fitted,\n",
              "a:visited.sk-estimator-doc-link.fitted {\n",
              "  /* fitted */\n",
              "  border: var(--sklearn-color-fitted-level-1) 1pt solid;\n",
              "  color: var(--sklearn-color-fitted-level-1);\n",
              "}\n",
              "\n",
              "/* On hover */\n",
              "div.sk-estimator:hover .sk-estimator-doc-link:hover,\n",
              ".sk-estimator-doc-link:hover,\n",
              "div.sk-label-container:hover .sk-estimator-doc-link:hover,\n",
              ".sk-estimator-doc-link:hover {\n",
              "  /* unfitted */\n",
              "  background-color: var(--sklearn-color-unfitted-level-3);\n",
              "  color: var(--sklearn-color-background);\n",
              "  text-decoration: none;\n",
              "}\n",
              "\n",
              "div.sk-estimator.fitted:hover .sk-estimator-doc-link.fitted:hover,\n",
              ".sk-estimator-doc-link.fitted:hover,\n",
              "div.sk-label-container:hover .sk-estimator-doc-link.fitted:hover,\n",
              ".sk-estimator-doc-link.fitted:hover {\n",
              "  /* fitted */\n",
              "  background-color: var(--sklearn-color-fitted-level-3);\n",
              "  color: var(--sklearn-color-background);\n",
              "  text-decoration: none;\n",
              "}\n",
              "\n",
              "/* Span, style for the box shown on hovering the info icon */\n",
              ".sk-estimator-doc-link span {\n",
              "  display: none;\n",
              "  z-index: 9999;\n",
              "  position: relative;\n",
              "  font-weight: normal;\n",
              "  right: .2ex;\n",
              "  padding: .5ex;\n",
              "  margin: .5ex;\n",
              "  width: min-content;\n",
              "  min-width: 20ex;\n",
              "  max-width: 50ex;\n",
              "  color: var(--sklearn-color-text);\n",
              "  box-shadow: 2pt 2pt 4pt #999;\n",
              "  /* unfitted */\n",
              "  background: var(--sklearn-color-unfitted-level-0);\n",
              "  border: .5pt solid var(--sklearn-color-unfitted-level-3);\n",
              "}\n",
              "\n",
              ".sk-estimator-doc-link.fitted span {\n",
              "  /* fitted */\n",
              "  background: var(--sklearn-color-fitted-level-0);\n",
              "  border: var(--sklearn-color-fitted-level-3);\n",
              "}\n",
              "\n",
              ".sk-estimator-doc-link:hover span {\n",
              "  display: block;\n",
              "}\n",
              "\n",
              "/* \"?\"-specific style due to the `<a>` HTML tag */\n",
              "\n",
              "#sk-container-id-2 a.estimator_doc_link {\n",
              "  float: right;\n",
              "  font-size: 1rem;\n",
              "  line-height: 1em;\n",
              "  font-family: monospace;\n",
              "  background-color: var(--sklearn-color-background);\n",
              "  border-radius: 1rem;\n",
              "  height: 1rem;\n",
              "  width: 1rem;\n",
              "  text-decoration: none;\n",
              "  /* unfitted */\n",
              "  color: var(--sklearn-color-unfitted-level-1);\n",
              "  border: var(--sklearn-color-unfitted-level-1) 1pt solid;\n",
              "}\n",
              "\n",
              "#sk-container-id-2 a.estimator_doc_link.fitted {\n",
              "  /* fitted */\n",
              "  border: var(--sklearn-color-fitted-level-1) 1pt solid;\n",
              "  color: var(--sklearn-color-fitted-level-1);\n",
              "}\n",
              "\n",
              "/* On hover */\n",
              "#sk-container-id-2 a.estimator_doc_link:hover {\n",
              "  /* unfitted */\n",
              "  background-color: var(--sklearn-color-unfitted-level-3);\n",
              "  color: var(--sklearn-color-background);\n",
              "  text-decoration: none;\n",
              "}\n",
              "\n",
              "#sk-container-id-2 a.estimator_doc_link.fitted:hover {\n",
              "  /* fitted */\n",
              "  background-color: var(--sklearn-color-fitted-level-3);\n",
              "}\n",
              "</style><div id=\"sk-container-id-2\" class=\"sk-top-container\"><div class=\"sk-text-repr-fallback\"><pre>Pipeline(steps=[(&#x27;tfidfvectorizer&#x27;, TfidfVectorizer()),\n",
              "                (&#x27;randomforestclassifier&#x27;,\n",
              "                 RandomForestClassifier(random_state=42))])</pre><b>In a Jupyter environment, please rerun this cell to show the HTML representation or trust the notebook. <br />On GitHub, the HTML representation is unable to render, please try loading this page with nbviewer.org.</b></div><div class=\"sk-container\" hidden><div class=\"sk-item sk-dashed-wrapped\"><div class=\"sk-label-container\"><div class=\"sk-label fitted sk-toggleable\"><input class=\"sk-toggleable__control sk-hidden--visually\" id=\"sk-estimator-id-4\" type=\"checkbox\" ><label for=\"sk-estimator-id-4\" class=\"sk-toggleable__label fitted sk-toggleable__label-arrow fitted\">&nbsp;&nbsp;Pipeline<a class=\"sk-estimator-doc-link fitted\" rel=\"noreferrer\" target=\"_blank\" href=\"https://scikit-learn.org/1.5/modules/generated/sklearn.pipeline.Pipeline.html\">?<span>Documentation for Pipeline</span></a><span class=\"sk-estimator-doc-link fitted\">i<span>Fitted</span></span></label><div class=\"sk-toggleable__content fitted\"><pre>Pipeline(steps=[(&#x27;tfidfvectorizer&#x27;, TfidfVectorizer()),\n",
              "                (&#x27;randomforestclassifier&#x27;,\n",
              "                 RandomForestClassifier(random_state=42))])</pre></div> </div></div><div class=\"sk-serial\"><div class=\"sk-item\"><div class=\"sk-estimator fitted sk-toggleable\"><input class=\"sk-toggleable__control sk-hidden--visually\" id=\"sk-estimator-id-5\" type=\"checkbox\" ><label for=\"sk-estimator-id-5\" class=\"sk-toggleable__label fitted sk-toggleable__label-arrow fitted\">&nbsp;TfidfVectorizer<a class=\"sk-estimator-doc-link fitted\" rel=\"noreferrer\" target=\"_blank\" href=\"https://scikit-learn.org/1.5/modules/generated/sklearn.feature_extraction.text.TfidfVectorizer.html\">?<span>Documentation for TfidfVectorizer</span></a></label><div class=\"sk-toggleable__content fitted\"><pre>TfidfVectorizer()</pre></div> </div></div><div class=\"sk-item\"><div class=\"sk-estimator fitted sk-toggleable\"><input class=\"sk-toggleable__control sk-hidden--visually\" id=\"sk-estimator-id-6\" type=\"checkbox\" ><label for=\"sk-estimator-id-6\" class=\"sk-toggleable__label fitted sk-toggleable__label-arrow fitted\">&nbsp;RandomForestClassifier<a class=\"sk-estimator-doc-link fitted\" rel=\"noreferrer\" target=\"_blank\" href=\"https://scikit-learn.org/1.5/modules/generated/sklearn.ensemble.RandomForestClassifier.html\">?<span>Documentation for RandomForestClassifier</span></a></label><div class=\"sk-toggleable__content fitted\"><pre>RandomForestClassifier(random_state=42)</pre></div> </div></div></div></div></div></div>"
            ]
          },
          "metadata": {},
          "execution_count": 79
        }
      ]
    },
    {
      "cell_type": "markdown",
      "source": [
        "##c - Passo 4: Fazer previsões\n"
      ],
      "metadata": {
        "id": "vnJMQ5Z9PnRj"
      }
    },
    {
      "cell_type": "code",
      "source": [
        "predictions = pipeline.predict(test_text)"
      ],
      "metadata": {
        "id": "XTUrBwQ3iePV"
      },
      "execution_count": null,
      "outputs": []
    },
    {
      "cell_type": "markdown",
      "source": [
        "##d - Avaliar o modelo"
      ],
      "metadata": {
        "id": "STj4gTrDioQo"
      }
    },
    {
      "cell_type": "code",
      "source": [
        "accuracy = accuracy_score(test_valoracao, predictions)\n",
        "report = classification_report(test_valoracao, predictions)"
      ],
      "metadata": {
        "id": "vFKnZaZSPn7I",
        "colab": {
          "base_uri": "https://localhost:8080/"
        },
        "outputId": "e208b90d-9ff0-49b2-bab6-8e24cf40a55f"
      },
      "execution_count": null,
      "outputs": [
        {
          "output_type": "stream",
          "name": "stderr",
          "text": [
            "/usr/local/lib/python3.10/dist-packages/sklearn/metrics/_classification.py:1531: UndefinedMetricWarning: Precision is ill-defined and being set to 0.0 in labels with no predicted samples. Use `zero_division` parameter to control this behavior.\n",
            "  _warn_prf(average, modifier, f\"{metric.capitalize()} is\", len(result))\n",
            "/usr/local/lib/python3.10/dist-packages/sklearn/metrics/_classification.py:1531: UndefinedMetricWarning: Precision is ill-defined and being set to 0.0 in labels with no predicted samples. Use `zero_division` parameter to control this behavior.\n",
            "  _warn_prf(average, modifier, f\"{metric.capitalize()} is\", len(result))\n",
            "/usr/local/lib/python3.10/dist-packages/sklearn/metrics/_classification.py:1531: UndefinedMetricWarning: Precision is ill-defined and being set to 0.0 in labels with no predicted samples. Use `zero_division` parameter to control this behavior.\n",
            "  _warn_prf(average, modifier, f\"{metric.capitalize()} is\", len(result))\n"
          ]
        }
      ]
    },
    {
      "cell_type": "code",
      "source": [
        "print(f'Accuracy: {accuracy}')\n",
        "print(f'Relatório de Classificação - Reconhecimento de imagem:\\n{report}')"
      ],
      "metadata": {
        "id": "BDw8X3tWzIqY",
        "colab": {
          "base_uri": "https://localhost:8080/"
        },
        "outputId": "99eabf61-a80c-430e-fde1-dceb5e3cde40"
      },
      "execution_count": null,
      "outputs": [
        {
          "output_type": "stream",
          "name": "stdout",
          "text": [
            "Accuracy: 0.625\n",
            "Relatório de Classificação - Reconhecimento de imagem:\n",
            "              precision    recall  f1-score   support\n",
            "\n",
            "           0       0.00      0.00      0.00         3\n",
            "           1       0.62      1.00      0.77        10\n",
            "           3       0.00      0.00      0.00         1\n",
            "           4       0.00      0.00      0.00         2\n",
            "\n",
            "    accuracy                           0.62        16\n",
            "   macro avg       0.16      0.25      0.19        16\n",
            "weighted avg       0.39      0.62      0.48        16\n",
            "\n"
          ]
        }
      ]
    },
    {
      "cell_type": "code",
      "source": [
        "# Verificar o DataFrame ajustado\n",
        "print(df_Arvores.head())\n",
        "print(df_Arvores.columns)"
      ],
      "metadata": {
        "id": "L1HJH0EGXn5R",
        "colab": {
          "base_uri": "https://localhost:8080/"
        },
        "outputId": "928afc00-bf8d-4b51-9b2c-c08f5c070db3"
      },
      "execution_count": null,
      "outputs": [
        {
          "output_type": "stream",
          "name": "stdout",
          "text": [
            "      nome                          url                        descrição  \\\n",
            "0  tree_01  Dataset_Arvores\\tree_01.jpg            arvore saudavel de pe   \n",
            "1  tree_02  Dataset_Arvores\\tree_02.jpg  arvore saudavel de pe invertida   \n",
            "2  tree_03  Dataset_Arvores\\tree_03.jpg            arvore saudavel de pe   \n",
            "3  tree_04  Dataset_Arvores\\tree_04.jpg            arvore saudavel de pe   \n",
            "4  tree_05  Dataset_Arvores\\tree_05.jpg            arvore saudavel de pe   \n",
            "\n",
            "   target                                         image_path  \n",
            "0       1  /content/drive/My Drive/Colab Notebooks/Datase...  \n",
            "1       1  /content/drive/My Drive/Colab Notebooks/Datase...  \n",
            "2       1  /content/drive/My Drive/Colab Notebooks/Datase...  \n",
            "3       1  /content/drive/My Drive/Colab Notebooks/Datase...  \n",
            "4       1  /content/drive/My Drive/Colab Notebooks/Datase...  \n",
            "Index(['nome', 'url', 'descrição', 'target', 'image_path'], dtype='object')\n"
          ]
        }
      ]
    },
    {
      "cell_type": "markdown",
      "source": [
        "\n",
        "##e - Função para carregar uma imagem a partir de um caminho"
      ],
      "metadata": {
        "id": "pFRyLvQ0Q6RF"
      }
    },
    {
      "cell_type": "code",
      "source": [
        "\n",
        "#def load_image_from_path(image_path):\n",
        " #   img = load_img(image_path, target_size=(224, 224))  # Ajuste o tamanho da imagem conforme necessário\n",
        "  #  img_array = img_to_array(img)\n",
        "   # img_array = np.expand_dims(img_array, axis=0)\n",
        "   # return img_array"
      ],
      "metadata": {
        "id": "mplkLDkhQ13b"
      },
      "execution_count": null,
      "outputs": []
    },
    {
      "cell_type": "markdown",
      "source": [
        "###Essa abordagem é especialmente útil para identificar a possibilidade de queda de árvores com base nas informações textuais disponíveis, como nome, URL e descrição."
      ],
      "metadata": {
        "id": "xmyt6hMJPvsQ"
      }
    },
    {
      "cell_type": "markdown",
      "source": [],
      "metadata": {
        "id": "Xff-V80ti-Qb"
      }
    },
    {
      "cell_type": "markdown",
      "source": [
        "#3.Compilação do Modelo"
      ],
      "metadata": {
        "id": "g2sGj43RQDOo"
      }
    },
    {
      "cell_type": "markdown",
      "source": [],
      "metadata": {
        "id": "qDR2oNK1jRnS"
      }
    },
    {
      "cell_type": "markdown",
      "source": [
        "##a - Função para carregar uma imagem a partir de um caminho\n"
      ],
      "metadata": {
        "id": "nxV9b3pDZw8C"
      }
    },
    {
      "cell_type": "code",
      "source": [
        "def load_image_from_path(image_path):\n",
        "    img = image.load_img(image_path, target_size=(224, 224))  # Ajuste o tamanho da imagem conforme necessário\n",
        "    img_array = image.img_to_array(img)\n",
        "    return img_array"
      ],
      "metadata": {
        "id": "4q5v6h-ARlnl"
      },
      "execution_count": null,
      "outputs": []
    },
    {
      "cell_type": "markdown",
      "source": [
        "##b - Verificar se a coluna 'image_path' foi criada corretamente"
      ],
      "metadata": {
        "id": "-WOltXf3Rpef"
      }
    },
    {
      "cell_type": "code",
      "source": [
        "# Verificar se os caminhos das imagens existem\n",
        "df_Arvores['image_exists'] = df_Arvores['image_path'].apply(lambda x: os.path.exists(x))\n",
        "print(df_Arvores[~df_Arvores['image_exists']])  # Exibe as linhas onde o caminho da imagem não existe\n",
        "\n",
        "\n",
        "#print(df_Arvores[['image_path']].head())\n",
        "df_Arvores\n",
        "\n"
      ],
      "metadata": {
        "id": "WHwXT8hDaj-e",
        "colab": {
          "base_uri": "https://localhost:8080/",
          "height": 1000
        },
        "outputId": "72bb22bc-6ad3-4929-c8f2-30934aa721a3"
      },
      "execution_count": null,
      "outputs": [
        {
          "output_type": "stream",
          "name": "stdout",
          "text": [
            "       nome                          url  \\\n",
            "0   tree_01  Dataset_Arvores\\tree_01.jpg   \n",
            "1   tree_02  Dataset_Arvores\\tree_02.jpg   \n",
            "2   tree_03  Dataset_Arvores\\tree_03.jpg   \n",
            "3   tree_04  Dataset_Arvores\\tree_04.jpg   \n",
            "4   tree_05  Dataset_Arvores\\tree_05.jpg   \n",
            "..      ...                          ...   \n",
            "75  tree_76  Dataset_Arvores\\tree_76.jpg   \n",
            "76  tree_77  Dataset_Arvores\\tree_77.jpg   \n",
            "77  tree_78  Dataset_Arvores\\tree_78.jpg   \n",
            "78  tree_79  Dataset_Arvores\\tree_79.jpg   \n",
            "79  tree_80  Dataset_Arvores\\tree_80.jpg   \n",
            "\n",
            "                                       descrição  target  \\\n",
            "0                          arvore saudavel de pe       1   \n",
            "1                arvore saudavel de pe invertida       1   \n",
            "2                          arvore saudavel de pe       1   \n",
            "3                          arvore saudavel de pe       1   \n",
            "4                          arvore saudavel de pe       1   \n",
            "..                                           ...     ...   \n",
            "75  arvore em pe com galhos inclinados invertida       3   \n",
            "76  arvore em pe com galhos inclinados invertida       3   \n",
            "77            arvore em pe com galhos inclinados       3   \n",
            "78            arvore em pe com galhos inclinados       3   \n",
            "79                         arvore saudavel de pe       1   \n",
            "\n",
            "                                           image_path  image_exists  \n",
            "0   /content/drive/My Drive/Colab Notebooks/Datase...         False  \n",
            "1   /content/drive/My Drive/Colab Notebooks/Datase...         False  \n",
            "2   /content/drive/My Drive/Colab Notebooks/Datase...         False  \n",
            "3   /content/drive/My Drive/Colab Notebooks/Datase...         False  \n",
            "4   /content/drive/My Drive/Colab Notebooks/Datase...         False  \n",
            "..                                                ...           ...  \n",
            "75  /content/drive/My Drive/Colab Notebooks/Datase...         False  \n",
            "76  /content/drive/My Drive/Colab Notebooks/Datase...         False  \n",
            "77  /content/drive/My Drive/Colab Notebooks/Datase...         False  \n",
            "78  /content/drive/My Drive/Colab Notebooks/Datase...         False  \n",
            "79  /content/drive/My Drive/Colab Notebooks/Datase...         False  \n",
            "\n",
            "[80 rows x 6 columns]\n"
          ]
        },
        {
          "output_type": "execute_result",
          "data": {
            "text/plain": [
              "       nome                          url  \\\n",
              "0   tree_01  Dataset_Arvores\\tree_01.jpg   \n",
              "1   tree_02  Dataset_Arvores\\tree_02.jpg   \n",
              "2   tree_03  Dataset_Arvores\\tree_03.jpg   \n",
              "3   tree_04  Dataset_Arvores\\tree_04.jpg   \n",
              "4   tree_05  Dataset_Arvores\\tree_05.jpg   \n",
              "..      ...                          ...   \n",
              "75  tree_76  Dataset_Arvores\\tree_76.jpg   \n",
              "76  tree_77  Dataset_Arvores\\tree_77.jpg   \n",
              "77  tree_78  Dataset_Arvores\\tree_78.jpg   \n",
              "78  tree_79  Dataset_Arvores\\tree_79.jpg   \n",
              "79  tree_80  Dataset_Arvores\\tree_80.jpg   \n",
              "\n",
              "                                       descrição  target  \\\n",
              "0                          arvore saudavel de pe       1   \n",
              "1                arvore saudavel de pe invertida       1   \n",
              "2                          arvore saudavel de pe       1   \n",
              "3                          arvore saudavel de pe       1   \n",
              "4                          arvore saudavel de pe       1   \n",
              "..                                           ...     ...   \n",
              "75  arvore em pe com galhos inclinados invertida       3   \n",
              "76  arvore em pe com galhos inclinados invertida       3   \n",
              "77            arvore em pe com galhos inclinados       3   \n",
              "78            arvore em pe com galhos inclinados       3   \n",
              "79                         arvore saudavel de pe       1   \n",
              "\n",
              "                                           image_path  image_exists  \n",
              "0   /content/drive/My Drive/Colab Notebooks/Datase...         False  \n",
              "1   /content/drive/My Drive/Colab Notebooks/Datase...         False  \n",
              "2   /content/drive/My Drive/Colab Notebooks/Datase...         False  \n",
              "3   /content/drive/My Drive/Colab Notebooks/Datase...         False  \n",
              "4   /content/drive/My Drive/Colab Notebooks/Datase...         False  \n",
              "..                                                ...           ...  \n",
              "75  /content/drive/My Drive/Colab Notebooks/Datase...         False  \n",
              "76  /content/drive/My Drive/Colab Notebooks/Datase...         False  \n",
              "77  /content/drive/My Drive/Colab Notebooks/Datase...         False  \n",
              "78  /content/drive/My Drive/Colab Notebooks/Datase...         False  \n",
              "79  /content/drive/My Drive/Colab Notebooks/Datase...         False  \n",
              "\n",
              "[80 rows x 6 columns]"
            ],
            "text/html": [
              "\n",
              "  <div id=\"df-0df3b691-3d96-4bd3-a078-ba4b781c9895\" class=\"colab-df-container\">\n",
              "    <div>\n",
              "<style scoped>\n",
              "    .dataframe tbody tr th:only-of-type {\n",
              "        vertical-align: middle;\n",
              "    }\n",
              "\n",
              "    .dataframe tbody tr th {\n",
              "        vertical-align: top;\n",
              "    }\n",
              "\n",
              "    .dataframe thead th {\n",
              "        text-align: right;\n",
              "    }\n",
              "</style>\n",
              "<table border=\"1\" class=\"dataframe\">\n",
              "  <thead>\n",
              "    <tr style=\"text-align: right;\">\n",
              "      <th></th>\n",
              "      <th>nome</th>\n",
              "      <th>url</th>\n",
              "      <th>descrição</th>\n",
              "      <th>target</th>\n",
              "      <th>image_path</th>\n",
              "      <th>image_exists</th>\n",
              "    </tr>\n",
              "  </thead>\n",
              "  <tbody>\n",
              "    <tr>\n",
              "      <th>0</th>\n",
              "      <td>tree_01</td>\n",
              "      <td>Dataset_Arvores\\tree_01.jpg</td>\n",
              "      <td>arvore saudavel de pe</td>\n",
              "      <td>1</td>\n",
              "      <td>/content/drive/My Drive/Colab Notebooks/Datase...</td>\n",
              "      <td>False</td>\n",
              "    </tr>\n",
              "    <tr>\n",
              "      <th>1</th>\n",
              "      <td>tree_02</td>\n",
              "      <td>Dataset_Arvores\\tree_02.jpg</td>\n",
              "      <td>arvore saudavel de pe invertida</td>\n",
              "      <td>1</td>\n",
              "      <td>/content/drive/My Drive/Colab Notebooks/Datase...</td>\n",
              "      <td>False</td>\n",
              "    </tr>\n",
              "    <tr>\n",
              "      <th>2</th>\n",
              "      <td>tree_03</td>\n",
              "      <td>Dataset_Arvores\\tree_03.jpg</td>\n",
              "      <td>arvore saudavel de pe</td>\n",
              "      <td>1</td>\n",
              "      <td>/content/drive/My Drive/Colab Notebooks/Datase...</td>\n",
              "      <td>False</td>\n",
              "    </tr>\n",
              "    <tr>\n",
              "      <th>3</th>\n",
              "      <td>tree_04</td>\n",
              "      <td>Dataset_Arvores\\tree_04.jpg</td>\n",
              "      <td>arvore saudavel de pe</td>\n",
              "      <td>1</td>\n",
              "      <td>/content/drive/My Drive/Colab Notebooks/Datase...</td>\n",
              "      <td>False</td>\n",
              "    </tr>\n",
              "    <tr>\n",
              "      <th>4</th>\n",
              "      <td>tree_05</td>\n",
              "      <td>Dataset_Arvores\\tree_05.jpg</td>\n",
              "      <td>arvore saudavel de pe</td>\n",
              "      <td>1</td>\n",
              "      <td>/content/drive/My Drive/Colab Notebooks/Datase...</td>\n",
              "      <td>False</td>\n",
              "    </tr>\n",
              "    <tr>\n",
              "      <th>...</th>\n",
              "      <td>...</td>\n",
              "      <td>...</td>\n",
              "      <td>...</td>\n",
              "      <td>...</td>\n",
              "      <td>...</td>\n",
              "      <td>...</td>\n",
              "    </tr>\n",
              "    <tr>\n",
              "      <th>75</th>\n",
              "      <td>tree_76</td>\n",
              "      <td>Dataset_Arvores\\tree_76.jpg</td>\n",
              "      <td>arvore em pe com galhos inclinados invertida</td>\n",
              "      <td>3</td>\n",
              "      <td>/content/drive/My Drive/Colab Notebooks/Datase...</td>\n",
              "      <td>False</td>\n",
              "    </tr>\n",
              "    <tr>\n",
              "      <th>76</th>\n",
              "      <td>tree_77</td>\n",
              "      <td>Dataset_Arvores\\tree_77.jpg</td>\n",
              "      <td>arvore em pe com galhos inclinados invertida</td>\n",
              "      <td>3</td>\n",
              "      <td>/content/drive/My Drive/Colab Notebooks/Datase...</td>\n",
              "      <td>False</td>\n",
              "    </tr>\n",
              "    <tr>\n",
              "      <th>77</th>\n",
              "      <td>tree_78</td>\n",
              "      <td>Dataset_Arvores\\tree_78.jpg</td>\n",
              "      <td>arvore em pe com galhos inclinados</td>\n",
              "      <td>3</td>\n",
              "      <td>/content/drive/My Drive/Colab Notebooks/Datase...</td>\n",
              "      <td>False</td>\n",
              "    </tr>\n",
              "    <tr>\n",
              "      <th>78</th>\n",
              "      <td>tree_79</td>\n",
              "      <td>Dataset_Arvores\\tree_79.jpg</td>\n",
              "      <td>arvore em pe com galhos inclinados</td>\n",
              "      <td>3</td>\n",
              "      <td>/content/drive/My Drive/Colab Notebooks/Datase...</td>\n",
              "      <td>False</td>\n",
              "    </tr>\n",
              "    <tr>\n",
              "      <th>79</th>\n",
              "      <td>tree_80</td>\n",
              "      <td>Dataset_Arvores\\tree_80.jpg</td>\n",
              "      <td>arvore saudavel de pe</td>\n",
              "      <td>1</td>\n",
              "      <td>/content/drive/My Drive/Colab Notebooks/Datase...</td>\n",
              "      <td>False</td>\n",
              "    </tr>\n",
              "  </tbody>\n",
              "</table>\n",
              "<p>80 rows × 6 columns</p>\n",
              "</div>\n",
              "    <div class=\"colab-df-buttons\">\n",
              "\n",
              "  <div class=\"colab-df-container\">\n",
              "    <button class=\"colab-df-convert\" onclick=\"convertToInteractive('df-0df3b691-3d96-4bd3-a078-ba4b781c9895')\"\n",
              "            title=\"Convert this dataframe to an interactive table.\"\n",
              "            style=\"display:none;\">\n",
              "\n",
              "  <svg xmlns=\"http://www.w3.org/2000/svg\" height=\"24px\" viewBox=\"0 -960 960 960\">\n",
              "    <path d=\"M120-120v-720h720v720H120Zm60-500h600v-160H180v160Zm220 220h160v-160H400v160Zm0 220h160v-160H400v160ZM180-400h160v-160H180v160Zm440 0h160v-160H620v160ZM180-180h160v-160H180v160Zm440 0h160v-160H620v160Z\"/>\n",
              "  </svg>\n",
              "    </button>\n",
              "\n",
              "  <style>\n",
              "    .colab-df-container {\n",
              "      display:flex;\n",
              "      gap: 12px;\n",
              "    }\n",
              "\n",
              "    .colab-df-convert {\n",
              "      background-color: #E8F0FE;\n",
              "      border: none;\n",
              "      border-radius: 50%;\n",
              "      cursor: pointer;\n",
              "      display: none;\n",
              "      fill: #1967D2;\n",
              "      height: 32px;\n",
              "      padding: 0 0 0 0;\n",
              "      width: 32px;\n",
              "    }\n",
              "\n",
              "    .colab-df-convert:hover {\n",
              "      background-color: #E2EBFA;\n",
              "      box-shadow: 0px 1px 2px rgba(60, 64, 67, 0.3), 0px 1px 3px 1px rgba(60, 64, 67, 0.15);\n",
              "      fill: #174EA6;\n",
              "    }\n",
              "\n",
              "    .colab-df-buttons div {\n",
              "      margin-bottom: 4px;\n",
              "    }\n",
              "\n",
              "    [theme=dark] .colab-df-convert {\n",
              "      background-color: #3B4455;\n",
              "      fill: #D2E3FC;\n",
              "    }\n",
              "\n",
              "    [theme=dark] .colab-df-convert:hover {\n",
              "      background-color: #434B5C;\n",
              "      box-shadow: 0px 1px 3px 1px rgba(0, 0, 0, 0.15);\n",
              "      filter: drop-shadow(0px 1px 2px rgba(0, 0, 0, 0.3));\n",
              "      fill: #FFFFFF;\n",
              "    }\n",
              "  </style>\n",
              "\n",
              "    <script>\n",
              "      const buttonEl =\n",
              "        document.querySelector('#df-0df3b691-3d96-4bd3-a078-ba4b781c9895 button.colab-df-convert');\n",
              "      buttonEl.style.display =\n",
              "        google.colab.kernel.accessAllowed ? 'block' : 'none';\n",
              "\n",
              "      async function convertToInteractive(key) {\n",
              "        const element = document.querySelector('#df-0df3b691-3d96-4bd3-a078-ba4b781c9895');\n",
              "        const dataTable =\n",
              "          await google.colab.kernel.invokeFunction('convertToInteractive',\n",
              "                                                    [key], {});\n",
              "        if (!dataTable) return;\n",
              "\n",
              "        const docLinkHtml = 'Like what you see? Visit the ' +\n",
              "          '<a target=\"_blank\" href=https://colab.research.google.com/notebooks/data_table.ipynb>data table notebook</a>'\n",
              "          + ' to learn more about interactive tables.';\n",
              "        element.innerHTML = '';\n",
              "        dataTable['output_type'] = 'display_data';\n",
              "        await google.colab.output.renderOutput(dataTable, element);\n",
              "        const docLink = document.createElement('div');\n",
              "        docLink.innerHTML = docLinkHtml;\n",
              "        element.appendChild(docLink);\n",
              "      }\n",
              "    </script>\n",
              "  </div>\n",
              "\n",
              "\n",
              "<div id=\"df-b3adacc7-d6c5-4ea8-b042-cdb7f5973599\">\n",
              "  <button class=\"colab-df-quickchart\" onclick=\"quickchart('df-b3adacc7-d6c5-4ea8-b042-cdb7f5973599')\"\n",
              "            title=\"Suggest charts\"\n",
              "            style=\"display:none;\">\n",
              "\n",
              "<svg xmlns=\"http://www.w3.org/2000/svg\" height=\"24px\"viewBox=\"0 0 24 24\"\n",
              "     width=\"24px\">\n",
              "    <g>\n",
              "        <path d=\"M19 3H5c-1.1 0-2 .9-2 2v14c0 1.1.9 2 2 2h14c1.1 0 2-.9 2-2V5c0-1.1-.9-2-2-2zM9 17H7v-7h2v7zm4 0h-2V7h2v10zm4 0h-2v-4h2v4z\"/>\n",
              "    </g>\n",
              "</svg>\n",
              "  </button>\n",
              "\n",
              "<style>\n",
              "  .colab-df-quickchart {\n",
              "      --bg-color: #E8F0FE;\n",
              "      --fill-color: #1967D2;\n",
              "      --hover-bg-color: #E2EBFA;\n",
              "      --hover-fill-color: #174EA6;\n",
              "      --disabled-fill-color: #AAA;\n",
              "      --disabled-bg-color: #DDD;\n",
              "  }\n",
              "\n",
              "  [theme=dark] .colab-df-quickchart {\n",
              "      --bg-color: #3B4455;\n",
              "      --fill-color: #D2E3FC;\n",
              "      --hover-bg-color: #434B5C;\n",
              "      --hover-fill-color: #FFFFFF;\n",
              "      --disabled-bg-color: #3B4455;\n",
              "      --disabled-fill-color: #666;\n",
              "  }\n",
              "\n",
              "  .colab-df-quickchart {\n",
              "    background-color: var(--bg-color);\n",
              "    border: none;\n",
              "    border-radius: 50%;\n",
              "    cursor: pointer;\n",
              "    display: none;\n",
              "    fill: var(--fill-color);\n",
              "    height: 32px;\n",
              "    padding: 0;\n",
              "    width: 32px;\n",
              "  }\n",
              "\n",
              "  .colab-df-quickchart:hover {\n",
              "    background-color: var(--hover-bg-color);\n",
              "    box-shadow: 0 1px 2px rgba(60, 64, 67, 0.3), 0 1px 3px 1px rgba(60, 64, 67, 0.15);\n",
              "    fill: var(--button-hover-fill-color);\n",
              "  }\n",
              "\n",
              "  .colab-df-quickchart-complete:disabled,\n",
              "  .colab-df-quickchart-complete:disabled:hover {\n",
              "    background-color: var(--disabled-bg-color);\n",
              "    fill: var(--disabled-fill-color);\n",
              "    box-shadow: none;\n",
              "  }\n",
              "\n",
              "  .colab-df-spinner {\n",
              "    border: 2px solid var(--fill-color);\n",
              "    border-color: transparent;\n",
              "    border-bottom-color: var(--fill-color);\n",
              "    animation:\n",
              "      spin 1s steps(1) infinite;\n",
              "  }\n",
              "\n",
              "  @keyframes spin {\n",
              "    0% {\n",
              "      border-color: transparent;\n",
              "      border-bottom-color: var(--fill-color);\n",
              "      border-left-color: var(--fill-color);\n",
              "    }\n",
              "    20% {\n",
              "      border-color: transparent;\n",
              "      border-left-color: var(--fill-color);\n",
              "      border-top-color: var(--fill-color);\n",
              "    }\n",
              "    30% {\n",
              "      border-color: transparent;\n",
              "      border-left-color: var(--fill-color);\n",
              "      border-top-color: var(--fill-color);\n",
              "      border-right-color: var(--fill-color);\n",
              "    }\n",
              "    40% {\n",
              "      border-color: transparent;\n",
              "      border-right-color: var(--fill-color);\n",
              "      border-top-color: var(--fill-color);\n",
              "    }\n",
              "    60% {\n",
              "      border-color: transparent;\n",
              "      border-right-color: var(--fill-color);\n",
              "    }\n",
              "    80% {\n",
              "      border-color: transparent;\n",
              "      border-right-color: var(--fill-color);\n",
              "      border-bottom-color: var(--fill-color);\n",
              "    }\n",
              "    90% {\n",
              "      border-color: transparent;\n",
              "      border-bottom-color: var(--fill-color);\n",
              "    }\n",
              "  }\n",
              "</style>\n",
              "\n",
              "  <script>\n",
              "    async function quickchart(key) {\n",
              "      const quickchartButtonEl =\n",
              "        document.querySelector('#' + key + ' button');\n",
              "      quickchartButtonEl.disabled = true;  // To prevent multiple clicks.\n",
              "      quickchartButtonEl.classList.add('colab-df-spinner');\n",
              "      try {\n",
              "        const charts = await google.colab.kernel.invokeFunction(\n",
              "            'suggestCharts', [key], {});\n",
              "      } catch (error) {\n",
              "        console.error('Error during call to suggestCharts:', error);\n",
              "      }\n",
              "      quickchartButtonEl.classList.remove('colab-df-spinner');\n",
              "      quickchartButtonEl.classList.add('colab-df-quickchart-complete');\n",
              "    }\n",
              "    (() => {\n",
              "      let quickchartButtonEl =\n",
              "        document.querySelector('#df-b3adacc7-d6c5-4ea8-b042-cdb7f5973599 button');\n",
              "      quickchartButtonEl.style.display =\n",
              "        google.colab.kernel.accessAllowed ? 'block' : 'none';\n",
              "    })();\n",
              "  </script>\n",
              "</div>\n",
              "\n",
              "  <div id=\"id_cbec45d4-2d1d-40d6-808e-27b5b2e92413\">\n",
              "    <style>\n",
              "      .colab-df-generate {\n",
              "        background-color: #E8F0FE;\n",
              "        border: none;\n",
              "        border-radius: 50%;\n",
              "        cursor: pointer;\n",
              "        display: none;\n",
              "        fill: #1967D2;\n",
              "        height: 32px;\n",
              "        padding: 0 0 0 0;\n",
              "        width: 32px;\n",
              "      }\n",
              "\n",
              "      .colab-df-generate:hover {\n",
              "        background-color: #E2EBFA;\n",
              "        box-shadow: 0px 1px 2px rgba(60, 64, 67, 0.3), 0px 1px 3px 1px rgba(60, 64, 67, 0.15);\n",
              "        fill: #174EA6;\n",
              "      }\n",
              "\n",
              "      [theme=dark] .colab-df-generate {\n",
              "        background-color: #3B4455;\n",
              "        fill: #D2E3FC;\n",
              "      }\n",
              "\n",
              "      [theme=dark] .colab-df-generate:hover {\n",
              "        background-color: #434B5C;\n",
              "        box-shadow: 0px 1px 3px 1px rgba(0, 0, 0, 0.15);\n",
              "        filter: drop-shadow(0px 1px 2px rgba(0, 0, 0, 0.3));\n",
              "        fill: #FFFFFF;\n",
              "      }\n",
              "    </style>\n",
              "    <button class=\"colab-df-generate\" onclick=\"generateWithVariable('df_Arvores')\"\n",
              "            title=\"Generate code using this dataframe.\"\n",
              "            style=\"display:none;\">\n",
              "\n",
              "  <svg xmlns=\"http://www.w3.org/2000/svg\" height=\"24px\"viewBox=\"0 0 24 24\"\n",
              "       width=\"24px\">\n",
              "    <path d=\"M7,19H8.4L18.45,9,17,7.55,7,17.6ZM5,21V16.75L18.45,3.32a2,2,0,0,1,2.83,0l1.4,1.43a1.91,1.91,0,0,1,.58,1.4,1.91,1.91,0,0,1-.58,1.4L9.25,21ZM18.45,9,17,7.55Zm-12,3A5.31,5.31,0,0,0,4.9,8.1,5.31,5.31,0,0,0,1,6.5,5.31,5.31,0,0,0,4.9,4.9,5.31,5.31,0,0,0,6.5,1,5.31,5.31,0,0,0,8.1,4.9,5.31,5.31,0,0,0,12,6.5,5.46,5.46,0,0,0,6.5,12Z\"/>\n",
              "  </svg>\n",
              "    </button>\n",
              "    <script>\n",
              "      (() => {\n",
              "      const buttonEl =\n",
              "        document.querySelector('#id_cbec45d4-2d1d-40d6-808e-27b5b2e92413 button.colab-df-generate');\n",
              "      buttonEl.style.display =\n",
              "        google.colab.kernel.accessAllowed ? 'block' : 'none';\n",
              "\n",
              "      buttonEl.onclick = () => {\n",
              "        google.colab.notebook.generateWithVariable('df_Arvores');\n",
              "      }\n",
              "      })();\n",
              "    </script>\n",
              "  </div>\n",
              "\n",
              "    </div>\n",
              "  </div>\n"
            ],
            "application/vnd.google.colaboratory.intrinsic+json": {
              "type": "dataframe",
              "variable_name": "df_Arvores",
              "summary": "{\n  \"name\": \"df_Arvores\",\n  \"rows\": 80,\n  \"fields\": [\n    {\n      \"column\": \"nome\",\n      \"properties\": {\n        \"dtype\": \"string\",\n        \"num_unique_values\": 80,\n        \"samples\": [\n          \"tree_31\",\n          \"tree_01\",\n          \"tree_23\"\n        ],\n        \"semantic_type\": \"\",\n        \"description\": \"\"\n      }\n    },\n    {\n      \"column\": \"url\",\n      \"properties\": {\n        \"dtype\": \"string\",\n        \"num_unique_values\": 80,\n        \"samples\": [\n          \"Dataset_Arvores\\\\tree_31.jpg\",\n          \"Dataset_Arvores\\\\tree_01.jpg\",\n          \"Dataset_Arvores\\\\tree_23.jpg\"\n        ],\n        \"semantic_type\": \"\",\n        \"description\": \"\"\n      }\n    },\n    {\n      \"column\": \"descri\\u00e7\\u00e3o\",\n      \"properties\": {\n        \"dtype\": \"category\",\n        \"num_unique_values\": 11,\n        \"samples\": [\n          \"suricato\",\n          \"arvore saudavel de pe\",\n          \"arvore de pe com raiz sufocada\"\n        ],\n        \"semantic_type\": \"\",\n        \"description\": \"\"\n      }\n    },\n    {\n      \"column\": \"target\",\n      \"properties\": {\n        \"dtype\": \"number\",\n        \"std\": 1,\n        \"min\": 0,\n        \"max\": 5,\n        \"num_unique_values\": 6,\n        \"samples\": [\n          1,\n          5,\n          2\n        ],\n        \"semantic_type\": \"\",\n        \"description\": \"\"\n      }\n    },\n    {\n      \"column\": \"image_path\",\n      \"properties\": {\n        \"dtype\": \"string\",\n        \"num_unique_values\": 80,\n        \"samples\": [\n          \"/content/drive/My Drive/Colab Notebooks/Dataset_Arvores/Dataset_Arvores\\\\tree_31.jpg\",\n          \"/content/drive/My Drive/Colab Notebooks/Dataset_Arvores/Dataset_Arvores\\\\tree_01.jpg\",\n          \"/content/drive/My Drive/Colab Notebooks/Dataset_Arvores/Dataset_Arvores\\\\tree_23.jpg\"\n        ],\n        \"semantic_type\": \"\",\n        \"description\": \"\"\n      }\n    },\n    {\n      \"column\": \"image_exists\",\n      \"properties\": {\n        \"dtype\": \"boolean\",\n        \"num_unique_values\": 1,\n        \"samples\": [\n          false\n        ],\n        \"semantic_type\": \"\",\n        \"description\": \"\"\n      }\n    }\n  ]\n}"
            }
          },
          "metadata": {},
          "execution_count": 86
        }
      ]
    },
    {
      "cell_type": "code",
      "source": [
        "import os\n",
        "\n",
        "# Verificar todos os arquivos no diretório de imagens\n",
        "image_dir = '/content/drive/My Drive/Colab Notebooks/Dataset_Arvores/'\n",
        "arquivos_imagens = os.listdir(image_dir)\n",
        "print(arquivos_imagens)  # Lista de todos os arquivos no diretório de imagens\n"
      ],
      "metadata": {
        "colab": {
          "base_uri": "https://localhost:8080/"
        },
        "id": "dB7Nk6jSaVJ-",
        "outputId": "521c2235-b243-4f49-ea30-0e5931c1201e"
      },
      "execution_count": null,
      "outputs": [
        {
          "output_type": "stream",
          "name": "stdout",
          "text": [
            "['tree_10.jpg', 'tree_07.jpg', 'tree_06.jpg', 'tree_04.jpg', 'tree_02.jpg', 'tree_08.jpg', 'tree_09.jpg', 'tree_01.jpg', 'tree_03.jpg', 'tree_05.jpg', 'tree_120.jpg', 'tree_125.jpg', 'tree_122.jpg', 'tree_121.jpg', 'tree_119.jpg', 'tree_123.jpg', 'tree_12.jpg', 'tree_118.jpg', 'tree_111.jpg', 'tree_117.jpg', 'tree_110.jpg', 'tree_114.jpg', 'tree_112.jpg', 'tree_115.jpg', 'tree_11.jpg', 'tree_113.jpg', 'tree_126.jpg', 'tree_124.jpg', 'tree_109.jpg', 'tree_102.jpg', 'tree_104.jpg', 'tree_100.jpg', 'tree_103.jpg', 'tree_105.jpg', 'tree_106.jpg', 'tree_101.jpg', 'tree_108.jpg', 'tree_107.jpg', 'tree_116.jpg', 'tree_140.jpg', 'tree_141.jpg', 'tree_139.jpg', 'tree_143.jpg', 'tree_137.jpg', 'tree_14.jpg', 'tree_138.jpg', 'tree_147.jpg', 'tree_15.jpg', 'tree_149.jpg', 'tree_148.jpg', 'tree_151.jpg', 'tree_150.jpg', 'tree_146.jpg', 'tree_153.jpg', 'tree_144.jpg', 'tree_145.jpg', 'tree_130.jpg', 'tree_129.jpg', 'tree_132.jpg', 'tree_128.jpg', 'tree_131.jpg', 'tree_133.jpg', 'tree_135.jpg', 'tree_134.jpg', 'tree_142.jpg', 'tree_127.jpg', 'tree_13.jpg', 'tree_136.jpg', 'tree_177.jpg', 'tree_174.jpg', 'tree_175.jpg', 'tree_178.jpg', 'tree_176.jpg', 'tree_179.jpg', 'tree_173.jpg', 'tree_169.jpg', 'tree_164.jpg', 'tree_167.jpg', 'tree_166.jpg', 'tree_17.jpg', 'tree_168.jpg', 'tree_165.jpg', 'tree_171.jpg', 'tree_172.jpg', 'tree_170.jpg', 'tree_18.jpg', 'tree_163.jpg', 'tree_162.jpg', 'tree_161.jpg', 'tree_152.jpg', 'tree_155.jpg', 'tree_160.jpg', 'tree_156.jpg', 'tree_159.jpg', 'tree_16.jpg', 'tree_158.jpg', 'tree_157.jpg', 'tree_154.jpg', 'tree_19.jpg', 'tree_188.jpg', 'tree_183.jpg', 'tree_186.jpg', 'tree_182.jpg', 'tree_185.jpg', 'tree_187.jpg', 'tree_190.jpg', 'tree_181.jpg', 'tree_180.jpg', 'tree_189.jpg', 'tree_184.jpg', 'tree_213.jpg', 'tree_210.jpg', 'tree_212.jpg', 'tree_21.jpg', 'tree_215.jpg', 'tree_211.jpg', 'tree_214.jpg', 'tree_209.jpg', 'tree_200.jpg', 'tree_202.jpg', 'tree_208.jpg', 'tree_217.jpg', 'tree_216.jpg', 'tree_207.jpg', 'tree_199.jpg', 'tree_193.jpg', 'tree_192.jpg', 'tree_196.jpg', 'tree_195.jpg', 'tree_194.jpg', 'tree_197.jpg', 'tree_191.jpg', 'tree_203.jpg', 'tree_204.jpg', 'tree_206.jpg', 'tree_201.jpg', 'tree_205.jpg', 'tree_198.jpg', 'tree_20.jpg', 'tree_237.jpg', 'tree_244.jpg', 'tree_239.jpg', 'tree_238.jpg', 'tree_240.jpg', 'tree_24.jpg', 'tree_243.jpg', 'tree_241.jpg', 'tree_231.jpg', 'tree_228.jpg', 'tree_230.jpg', 'tree_233.jpg', 'tree_232.jpg', 'tree_229.jpg', 'tree_23.jpg', 'tree_236.jpg', 'tree_235.jpg', 'tree_242.jpg', 'tree_234.jpg', 'tree_220.jpg', 'tree_223.jpg', 'tree_222.jpg', 'tree_22.jpg', 'tree_219.jpg', 'tree_221.jpg', 'tree_224.jpg', 'tree_218.jpg', 'tree_225.jpg', 'tree_226.jpg', 'tree_227.jpg', 'tree_254.jpg', 'tree_252.jpg', 'tree_251.jpg', 'tree_247.jpg', 'tree_25.jpg', 'tree_250.jpg', 'tree_246.jpg', 'tree_249.jpg', 'tree_248.jpg', 'tree_245.jpg', 'tree_253.jpg', 'tree_261.jpg', 'tree_255.jpg', 'tree_256.jpg', 'tree_258.jpg', 'tree_257.jpg', 'tree_260.jpg', 'tree_26.jpg', 'tree_259.jpg', 'tree_270.jpg', 'tree_263.jpg', 'tree_262.jpg', 'tree_283.jpg', 'tree_286.jpg', 'tree_284.jpg', 'tree_288.jpg', 'tree_287.jpg', 'tree_282.jpg', 'tree_285.jpg', 'tree_290.jpg', 'tree_289.jpg', 'tree_280.jpg', 'tree_28.jpg', 'tree_29.jpg', 'tree_264.jpg', 'tree_271.jpg', 'tree_269.jpg', 'tree_266.jpg', 'tree_268.jpg', 'tree_265.jpg', 'tree_27.jpg', 'tree_272.jpg', 'tree_274.jpg', 'tree_273.jpg', 'tree_279.jpg', 'tree_275.jpg', 'tree_276.jpg', 'tree_277.jpg', 'tree_281.jpg', 'tree_278.jpg', 'tree_267.jpg', 'tree_309.jpg', 'tree_314.jpg', 'tree_315.jpg', 'tree_31.jpg', 'tree_312.jpg', 'tree_310.jpg', 'tree_313.jpg', 'tree_311.jpg', 'tree_301.jpg', 'tree_302.jpg', 'tree_306.jpg', 'tree_300.jpg', 'tree_303.jpg', 'tree_308.jpg', 'tree_304.jpg', 'tree_318.jpg', 'tree_317.jpg', 'tree_316.jpg', 'tree_307.jpg', 'tree_305.jpg', 'tree_296.jpg', 'tree_295.jpg', 'tree_291.jpg', 'tree_292.jpg', 'tree_293.jpg', 'tree_294.jpg', 'tree_297.jpg', 'tree_30.jpg', 'tree_298.jpg', 'tree_299.jpg', 'tree_345.jpg', 'tree_343.jpg', 'tree_34.jpg', 'tree_344.jpg', 'tree_339.jpg', 'tree_337.jpg', 'tree_338.jpg', 'tree_333.jpg', 'tree_329.jpg', 'tree_330.jpg', 'tree_33.jpg', 'tree_328.jpg', 'tree_332.jpg', 'tree_331.jpg', 'tree_341.jpg', 'tree_335.jpg', 'tree_336.jpg', 'tree_340.jpg', 'tree_342.jpg', 'tree_326.jpg', 'tree_319.jpg', 'tree_324.jpg', 'tree_323.jpg', 'tree_322.jpg', 'tree_320.jpg', 'tree_321.jpg', 'tree_32.jpg', 'tree_334.jpg', 'tree_327.jpg', 'tree_325.jpg', 'tree_346.jpg', 'tree_347.jpg', 'tree_354.jpg', 'tree_351.jpg', 'tree_350.jpg', 'tree_35.jpg', 'tree_348.jpg', 'tree_352.jpg', 'tree_361.jpg', 'tree_349.jpg', 'tree_357.jpg', 'tree_353.jpg', 'tree_370.jpg', 'tree_38.jpg', 'tree_379.jpg', 'tree_376.jpg', 'tree_381.jpg', 'tree_374.jpg', 'tree_375.jpg', 'tree_373.jpg', 'tree_380.jpg', 'tree_378.jpg', 'tree_377.jpg', 'tree_372.jpg', 'tree_356.jpg', 'tree_358.jpg', 'tree_36.jpg', 'tree_359.jpg', 'tree_360.jpg', 'tree_362.jpg', 'tree_355.jpg', 'tree_364.jpg', 'tree_371.jpg', 'tree_367.jpg', 'tree_368.jpg', 'tree_366.jpg', 'tree_369.jpg', 'tree_365.jpg', 'tree_363.jpg', 'tree_37.jpg', 'tree_404.jpg', 'tree_391.jpg', 'tree_396.jpg', 'tree_394.jpg', 'tree_392.jpg', 'tree_397.jpg', 'tree_395.jpg', 'tree_393.jpg', 'tree_405.jpg', 'tree_408.jpg', 'tree_409.jpg', 'tree_406.jpg', 'tree_407.jpg', 'tree_403.jpg', 'tree_400.jpg', 'tree_402.jpg', 'tree_40.jpg', 'tree_401.jpg', 'tree_399.jpg', 'tree_382.jpg', 'tree_383.jpg', 'tree_384.jpg', 'tree_387.jpg', 'tree_388.jpg', 'tree_385.jpg', 'tree_386.jpg', 'tree_390.jpg', 'tree_39.jpg', 'tree_389.jpg', 'tree_398.jpg', 'tree_432.jpg', 'tree_430.jpg', 'tree_428.jpg', 'tree_433.jpg', 'tree_43.jpg', 'tree_429.jpg', 'tree_431.jpg', 'tree_427.jpg', 'tree_422.jpg', 'tree_423.jpg', 'tree_420.jpg', 'tree_419.jpg', 'tree_421.jpg', 'tree_42.jpg', 'tree_424.jpg', 'tree_435.jpg', 'tree_440.jpg', 'tree_436.jpg', 'tree_426.jpg', 'tree_434.jpg', 'tree_41.jpg', 'tree_417.jpg', 'tree_412.jpg', 'tree_415.jpg', 'tree_413.jpg', 'tree_410.jpg', 'tree_411.jpg', 'tree_414.jpg', 'tree_416.jpg', 'tree_418.jpg', 'tree_425.jpg', 'tree_457.jpg', 'tree_46.jpg', 'tree_460.jpg', 'tree_456.jpg', 'tree_459.jpg', 'tree_458.jpg', 'tree_455.jpg', 'tree_454.jpg', 'tree_453.jpg', 'tree_451.jpg', 'tree_448.jpg', 'tree_449.jpg', 'tree_450.jpg', 'tree_452.jpg', 'tree_438.jpg', 'tree_447.jpg', 'tree_467.jpg', 'tree_463.jpg', 'tree_446.jpg', 'tree_45.jpg', 'tree_461.jpg', 'tree_462.jpg', 'tree_445.jpg', 'tree_437.jpg', 'tree_439.jpg', 'tree_443.jpg', 'tree_441.jpg', 'tree_442.jpg', 'tree_444.jpg', 'tree_44.jpg', 'tree_473.jpg', 'tree_483.jpg', 'tree_487.jpg', 'tree_488.jpg', 'tree_485.jpg', 'tree_482.jpg', 'tree_486.jpg', 'tree_484.jpg', 'tree_490.jpg', 'tree_489.jpg', 'tree_493.jpg', 'tree_49.jpg', 'tree_480.jpg', 'tree_471.jpg', 'tree_48.jpg', 'tree_477.jpg', 'tree_478.jpg', 'tree_476.jpg', 'tree_481.jpg', 'tree_475.jpg', 'tree_474.jpg', 'tree_470.jpg', 'tree_464.jpg', 'tree_469.jpg', 'tree_465.jpg', 'tree_472.jpg', 'tree_468.jpg', 'tree_466.jpg', 'tree_479.jpg', 'tree_47.jpg', 'tree_515.jpg', 'tree_512.jpg', 'tree_51.jpg', 'tree_513.jpg', 'tree_510.jpg', 'tree_514.jpg', 'tree_511.jpg', 'tree_523.jpg', 'tree_519.jpg', 'tree_520.jpg', 'tree_524.jpg', 'tree_52.jpg', 'tree_522.jpg', 'tree_521.jpg', 'tree_526.jpg', 'tree_518.jpg', 'tree_516.jpg', 'tree_527.jpg', 'tree_525.jpg', 'tree_517.jpg', 'tree_492.jpg', 'tree_495.jpg', 'tree_497.jpg', 'tree_499.jpg', 'tree_491.jpg', 'tree_50.jpg', 'tree_494.jpg', 'tree_503.jpg', 'tree_501.jpg', 'tree_500.jpg', 'tree_506.jpg', 'tree_508.jpg', 'tree_502.jpg', 'tree_505.jpg', 'tree_498.jpg', 'tree_509.jpg', 'tree_496.jpg', 'tree_507.jpg', 'tree_504.jpg', 'tree_542.jpg', 'tree_543.jpg', 'tree_537.jpg', 'tree_538.jpg', 'tree_54.jpg', 'tree_539.jpg', 'tree_541.jpg', 'tree_540.jpg', 'tree_530.jpg', 'tree_545.jpg', 'tree_536.jpg', 'tree_535.jpg', 'tree_533.jpg', 'tree_534.jpg', 'tree_532.jpg', 'tree_528.jpg', 'tree_53.jpg', 'tree_529.jpg', 'tree_544.jpg', 'tree_531.jpg', 'tree_547.jpg', 'tree_561.jpg', 'tree_550.jpg', 'tree_549.jpg', 'tree_554.jpg', 'tree_548.jpg', 'tree_552.jpg', 'tree_55.jpg', 'tree_546.jpg', 'tree_551.jpg', 'tree_553.jpg', 'tree_61.jpg', 'tree_582.jpg', 'tree_583.jpg', 'tree_64.jpg', 'tree_584.jpg', 'tree_585.jpg', 'tree_63.jpg', 'tree_58.jpg', 'tree_62.jpg', 'tree_577.jpg', 'tree_579.jpg', 'tree_580.jpg', 'tree_581.jpg', 'tree_576.jpg', 'tree_574.jpg', 'tree_573.jpg', 'tree_572.jpg', 'tree_60.jpg', 'tree_575.jpg', 'tree_578.jpg', 'tree_566.jpg', 'tree_568.jpg', 'tree_570.jpg', 'tree_564.jpg', 'tree_565.jpg', 'tree_571.jpg', 'tree_569.jpg', 'tree_567.jpg', 'tree_57.jpg', 'tree_562.jpg', 'tree_560.jpg', 'tree_559.jpg', 'tree_56.jpg', 'tree_555.jpg', 'tree_557.jpg', 'tree_556.jpg', 'tree_558.jpg', 'tree_563.jpg', 'tree_86.jpg', 'tree_87.jpg', 'tree_91.jpg', 'tree_93.jpg', 'tree_94.jpg', 'tree_89.jpg', 'tree_88.jpg', 'tree_85.jpg', 'tree_99.jpg', 'tree_98.jpg', 'tree_97.jpg', 'tree_96.jpg', 'tree_95.jpg', 'tree_84.jpg', 'tree_83.jpg', 'tree_92.jpg', 'tree_90.jpg', 'tree_72.jpg', 'tree_77.jpg', 'tree_78.jpg', 'tree_81.jpg', 'tree_75.jpg', 'tree_76.jpg', 'tree_79.jpg', 'tree_80.jpg', 'tree_74.jpg', 'tree_59.jpg', 'tree_69.jpg', 'tree_66.jpg', 'tree_68.jpg', 'tree_71.jpg', 'tree_65.jpg', 'tree_70.jpg', 'tree_67.jpg', 'tree_73.jpg', 'tree_82.jpg']\n"
          ]
        }
      ]
    },
    {
      "cell_type": "markdown",
      "source": [
        "##c - Carregar as imagens\n"
      ],
      "metadata": {
        "id": "CLZem53NUQJT"
      }
    },
    {
      "cell_type": "code",
      "source": [
        "df_Arvores['image'] = df_Arvores['image_path'].apply(load_image_from_path)"
      ],
      "metadata": {
        "id": "re3v-BmirGKV",
        "colab": {
          "base_uri": "https://localhost:8080/",
          "height": 351
        },
        "outputId": "6f2b9244-23c1-4d4e-ad1b-5524cc06e89f"
      },
      "execution_count": null,
      "outputs": [
        {
          "output_type": "error",
          "ename": "FileNotFoundError",
          "evalue": "[Errno 2] No such file or directory: '/content/drive/My Drive/Colab Notebooks/Dataset_Arvores/Dataset_Arvores\\\\tree_01.jpg'",
          "traceback": [
            "\u001b[0;31m---------------------------------------------------------------------------\u001b[0m",
            "\u001b[0;31mFileNotFoundError\u001b[0m                         Traceback (most recent call last)",
            "\u001b[0;32m<ipython-input-88-a89dc20bb0bf>\u001b[0m in \u001b[0;36m<cell line: 1>\u001b[0;34m()\u001b[0m\n\u001b[0;32m----> 1\u001b[0;31m \u001b[0mdf_Arvores\u001b[0m\u001b[0;34m[\u001b[0m\u001b[0;34m'image'\u001b[0m\u001b[0;34m]\u001b[0m \u001b[0;34m=\u001b[0m \u001b[0mdf_Arvores\u001b[0m\u001b[0;34m[\u001b[0m\u001b[0;34m'image_path'\u001b[0m\u001b[0;34m]\u001b[0m\u001b[0;34m.\u001b[0m\u001b[0mapply\u001b[0m\u001b[0;34m(\u001b[0m\u001b[0mload_image_from_path\u001b[0m\u001b[0;34m)\u001b[0m\u001b[0;34m\u001b[0m\u001b[0;34m\u001b[0m\u001b[0m\n\u001b[0m",
            "\u001b[0;32m/usr/local/lib/python3.10/dist-packages/pandas/core/series.py\u001b[0m in \u001b[0;36mapply\u001b[0;34m(self, func, convert_dtype, args, by_row, **kwargs)\u001b[0m\n\u001b[1;32m   4762\u001b[0m             \u001b[0margs\u001b[0m\u001b[0;34m=\u001b[0m\u001b[0margs\u001b[0m\u001b[0;34m,\u001b[0m\u001b[0;34m\u001b[0m\u001b[0;34m\u001b[0m\u001b[0m\n\u001b[1;32m   4763\u001b[0m             \u001b[0mkwargs\u001b[0m\u001b[0;34m=\u001b[0m\u001b[0mkwargs\u001b[0m\u001b[0;34m,\u001b[0m\u001b[0;34m\u001b[0m\u001b[0;34m\u001b[0m\u001b[0m\n\u001b[0;32m-> 4764\u001b[0;31m         ).apply()\n\u001b[0m\u001b[1;32m   4765\u001b[0m \u001b[0;34m\u001b[0m\u001b[0m\n\u001b[1;32m   4766\u001b[0m     def _reindex_indexer(\n",
            "\u001b[0;32m/usr/local/lib/python3.10/dist-packages/pandas/core/apply.py\u001b[0m in \u001b[0;36mapply\u001b[0;34m(self)\u001b[0m\n\u001b[1;32m   1207\u001b[0m \u001b[0;34m\u001b[0m\u001b[0m\n\u001b[1;32m   1208\u001b[0m         \u001b[0;31m# self.func is Callable\u001b[0m\u001b[0;34m\u001b[0m\u001b[0;34m\u001b[0m\u001b[0m\n\u001b[0;32m-> 1209\u001b[0;31m         \u001b[0;32mreturn\u001b[0m \u001b[0mself\u001b[0m\u001b[0;34m.\u001b[0m\u001b[0mapply_standard\u001b[0m\u001b[0;34m(\u001b[0m\u001b[0;34m)\u001b[0m\u001b[0;34m\u001b[0m\u001b[0;34m\u001b[0m\u001b[0m\n\u001b[0m\u001b[1;32m   1210\u001b[0m \u001b[0;34m\u001b[0m\u001b[0m\n\u001b[1;32m   1211\u001b[0m     \u001b[0;32mdef\u001b[0m \u001b[0magg\u001b[0m\u001b[0;34m(\u001b[0m\u001b[0mself\u001b[0m\u001b[0;34m)\u001b[0m\u001b[0;34m:\u001b[0m\u001b[0;34m\u001b[0m\u001b[0;34m\u001b[0m\u001b[0m\n",
            "\u001b[0;32m/usr/local/lib/python3.10/dist-packages/pandas/core/apply.py\u001b[0m in \u001b[0;36mapply_standard\u001b[0;34m(self)\u001b[0m\n\u001b[1;32m   1287\u001b[0m         \u001b[0;31m#  Categorical (GH51645).\u001b[0m\u001b[0;34m\u001b[0m\u001b[0;34m\u001b[0m\u001b[0m\n\u001b[1;32m   1288\u001b[0m         \u001b[0maction\u001b[0m \u001b[0;34m=\u001b[0m \u001b[0;34m\"ignore\"\u001b[0m \u001b[0;32mif\u001b[0m \u001b[0misinstance\u001b[0m\u001b[0;34m(\u001b[0m\u001b[0mobj\u001b[0m\u001b[0;34m.\u001b[0m\u001b[0mdtype\u001b[0m\u001b[0;34m,\u001b[0m \u001b[0mCategoricalDtype\u001b[0m\u001b[0;34m)\u001b[0m \u001b[0;32melse\u001b[0m \u001b[0;32mNone\u001b[0m\u001b[0;34m\u001b[0m\u001b[0;34m\u001b[0m\u001b[0m\n\u001b[0;32m-> 1289\u001b[0;31m         mapped = obj._map_values(\n\u001b[0m\u001b[1;32m   1290\u001b[0m             \u001b[0mmapper\u001b[0m\u001b[0;34m=\u001b[0m\u001b[0mcurried\u001b[0m\u001b[0;34m,\u001b[0m \u001b[0mna_action\u001b[0m\u001b[0;34m=\u001b[0m\u001b[0maction\u001b[0m\u001b[0;34m,\u001b[0m \u001b[0mconvert\u001b[0m\u001b[0;34m=\u001b[0m\u001b[0mself\u001b[0m\u001b[0;34m.\u001b[0m\u001b[0mconvert_dtype\u001b[0m\u001b[0;34m\u001b[0m\u001b[0;34m\u001b[0m\u001b[0m\n\u001b[1;32m   1291\u001b[0m         )\n",
            "\u001b[0;32m/usr/local/lib/python3.10/dist-packages/pandas/core/base.py\u001b[0m in \u001b[0;36m_map_values\u001b[0;34m(self, mapper, na_action, convert)\u001b[0m\n\u001b[1;32m    919\u001b[0m             \u001b[0;32mreturn\u001b[0m \u001b[0marr\u001b[0m\u001b[0;34m.\u001b[0m\u001b[0mmap\u001b[0m\u001b[0;34m(\u001b[0m\u001b[0mmapper\u001b[0m\u001b[0;34m,\u001b[0m \u001b[0mna_action\u001b[0m\u001b[0;34m=\u001b[0m\u001b[0mna_action\u001b[0m\u001b[0;34m)\u001b[0m\u001b[0;34m\u001b[0m\u001b[0;34m\u001b[0m\u001b[0m\n\u001b[1;32m    920\u001b[0m \u001b[0;34m\u001b[0m\u001b[0m\n\u001b[0;32m--> 921\u001b[0;31m         \u001b[0;32mreturn\u001b[0m \u001b[0malgorithms\u001b[0m\u001b[0;34m.\u001b[0m\u001b[0mmap_array\u001b[0m\u001b[0;34m(\u001b[0m\u001b[0marr\u001b[0m\u001b[0;34m,\u001b[0m \u001b[0mmapper\u001b[0m\u001b[0;34m,\u001b[0m \u001b[0mna_action\u001b[0m\u001b[0;34m=\u001b[0m\u001b[0mna_action\u001b[0m\u001b[0;34m,\u001b[0m \u001b[0mconvert\u001b[0m\u001b[0;34m=\u001b[0m\u001b[0mconvert\u001b[0m\u001b[0;34m)\u001b[0m\u001b[0;34m\u001b[0m\u001b[0;34m\u001b[0m\u001b[0m\n\u001b[0m\u001b[1;32m    922\u001b[0m \u001b[0;34m\u001b[0m\u001b[0m\n\u001b[1;32m    923\u001b[0m     \u001b[0;34m@\u001b[0m\u001b[0mfinal\u001b[0m\u001b[0;34m\u001b[0m\u001b[0;34m\u001b[0m\u001b[0m\n",
            "\u001b[0;32m/usr/local/lib/python3.10/dist-packages/pandas/core/algorithms.py\u001b[0m in \u001b[0;36mmap_array\u001b[0;34m(arr, mapper, na_action, convert)\u001b[0m\n\u001b[1;32m   1812\u001b[0m     \u001b[0mvalues\u001b[0m \u001b[0;34m=\u001b[0m \u001b[0marr\u001b[0m\u001b[0;34m.\u001b[0m\u001b[0mastype\u001b[0m\u001b[0;34m(\u001b[0m\u001b[0mobject\u001b[0m\u001b[0;34m,\u001b[0m \u001b[0mcopy\u001b[0m\u001b[0;34m=\u001b[0m\u001b[0;32mFalse\u001b[0m\u001b[0;34m)\u001b[0m\u001b[0;34m\u001b[0m\u001b[0;34m\u001b[0m\u001b[0m\n\u001b[1;32m   1813\u001b[0m     \u001b[0;32mif\u001b[0m \u001b[0mna_action\u001b[0m \u001b[0;32mis\u001b[0m \u001b[0;32mNone\u001b[0m\u001b[0;34m:\u001b[0m\u001b[0;34m\u001b[0m\u001b[0;34m\u001b[0m\u001b[0m\n\u001b[0;32m-> 1814\u001b[0;31m         \u001b[0;32mreturn\u001b[0m \u001b[0mlib\u001b[0m\u001b[0;34m.\u001b[0m\u001b[0mmap_infer\u001b[0m\u001b[0;34m(\u001b[0m\u001b[0mvalues\u001b[0m\u001b[0;34m,\u001b[0m \u001b[0mmapper\u001b[0m\u001b[0;34m,\u001b[0m \u001b[0mconvert\u001b[0m\u001b[0;34m=\u001b[0m\u001b[0mconvert\u001b[0m\u001b[0;34m)\u001b[0m\u001b[0;34m\u001b[0m\u001b[0;34m\u001b[0m\u001b[0m\n\u001b[0m\u001b[1;32m   1815\u001b[0m     \u001b[0;32melse\u001b[0m\u001b[0;34m:\u001b[0m\u001b[0;34m\u001b[0m\u001b[0;34m\u001b[0m\u001b[0m\n\u001b[1;32m   1816\u001b[0m         return lib.map_infer_mask(\n",
            "\u001b[0;32mlib.pyx\u001b[0m in \u001b[0;36mpandas._libs.lib.map_infer\u001b[0;34m()\u001b[0m\n",
            "\u001b[0;32m<ipython-input-85-baac72ffadd4>\u001b[0m in \u001b[0;36mload_image_from_path\u001b[0;34m(image_path)\u001b[0m\n\u001b[1;32m      1\u001b[0m \u001b[0;32mdef\u001b[0m \u001b[0mload_image_from_path\u001b[0m\u001b[0;34m(\u001b[0m\u001b[0mimage_path\u001b[0m\u001b[0;34m)\u001b[0m\u001b[0;34m:\u001b[0m\u001b[0;34m\u001b[0m\u001b[0;34m\u001b[0m\u001b[0m\n\u001b[0;32m----> 2\u001b[0;31m     \u001b[0mimg\u001b[0m \u001b[0;34m=\u001b[0m \u001b[0mimage\u001b[0m\u001b[0;34m.\u001b[0m\u001b[0mload_img\u001b[0m\u001b[0;34m(\u001b[0m\u001b[0mimage_path\u001b[0m\u001b[0;34m,\u001b[0m \u001b[0mtarget_size\u001b[0m\u001b[0;34m=\u001b[0m\u001b[0;34m(\u001b[0m\u001b[0;36m224\u001b[0m\u001b[0;34m,\u001b[0m \u001b[0;36m224\u001b[0m\u001b[0;34m)\u001b[0m\u001b[0;34m)\u001b[0m  \u001b[0;31m# Ajuste o tamanho da imagem conforme necessário\u001b[0m\u001b[0;34m\u001b[0m\u001b[0;34m\u001b[0m\u001b[0m\n\u001b[0m\u001b[1;32m      3\u001b[0m     \u001b[0mimg_array\u001b[0m \u001b[0;34m=\u001b[0m \u001b[0mimage\u001b[0m\u001b[0;34m.\u001b[0m\u001b[0mimg_to_array\u001b[0m\u001b[0;34m(\u001b[0m\u001b[0mimg\u001b[0m\u001b[0;34m)\u001b[0m\u001b[0;34m\u001b[0m\u001b[0;34m\u001b[0m\u001b[0m\n\u001b[1;32m      4\u001b[0m     \u001b[0;32mreturn\u001b[0m \u001b[0mimg_array\u001b[0m\u001b[0;34m\u001b[0m\u001b[0;34m\u001b[0m\u001b[0m\n",
            "\u001b[0;32m/usr/local/lib/python3.10/dist-packages/keras/src/utils/image_utils.py\u001b[0m in \u001b[0;36mload_img\u001b[0;34m(path, color_mode, target_size, interpolation, keep_aspect_ratio)\u001b[0m\n\u001b[1;32m    233\u001b[0m         \u001b[0;32mif\u001b[0m \u001b[0misinstance\u001b[0m\u001b[0;34m(\u001b[0m\u001b[0mpath\u001b[0m\u001b[0;34m,\u001b[0m \u001b[0mpathlib\u001b[0m\u001b[0;34m.\u001b[0m\u001b[0mPath\u001b[0m\u001b[0;34m)\u001b[0m\u001b[0;34m:\u001b[0m\u001b[0;34m\u001b[0m\u001b[0;34m\u001b[0m\u001b[0m\n\u001b[1;32m    234\u001b[0m             \u001b[0mpath\u001b[0m \u001b[0;34m=\u001b[0m \u001b[0mstr\u001b[0m\u001b[0;34m(\u001b[0m\u001b[0mpath\u001b[0m\u001b[0;34m.\u001b[0m\u001b[0mresolve\u001b[0m\u001b[0;34m(\u001b[0m\u001b[0;34m)\u001b[0m\u001b[0;34m)\u001b[0m\u001b[0;34m\u001b[0m\u001b[0;34m\u001b[0m\u001b[0m\n\u001b[0;32m--> 235\u001b[0;31m         \u001b[0;32mwith\u001b[0m \u001b[0mopen\u001b[0m\u001b[0;34m(\u001b[0m\u001b[0mpath\u001b[0m\u001b[0;34m,\u001b[0m \u001b[0;34m\"rb\"\u001b[0m\u001b[0;34m)\u001b[0m \u001b[0;32mas\u001b[0m \u001b[0mf\u001b[0m\u001b[0;34m:\u001b[0m\u001b[0;34m\u001b[0m\u001b[0;34m\u001b[0m\u001b[0m\n\u001b[0m\u001b[1;32m    236\u001b[0m             \u001b[0mimg\u001b[0m \u001b[0;34m=\u001b[0m \u001b[0mpil_image\u001b[0m\u001b[0;34m.\u001b[0m\u001b[0mopen\u001b[0m\u001b[0;34m(\u001b[0m\u001b[0mio\u001b[0m\u001b[0;34m.\u001b[0m\u001b[0mBytesIO\u001b[0m\u001b[0;34m(\u001b[0m\u001b[0mf\u001b[0m\u001b[0;34m.\u001b[0m\u001b[0mread\u001b[0m\u001b[0;34m(\u001b[0m\u001b[0;34m)\u001b[0m\u001b[0;34m)\u001b[0m\u001b[0;34m)\u001b[0m\u001b[0;34m\u001b[0m\u001b[0;34m\u001b[0m\u001b[0m\n\u001b[1;32m    237\u001b[0m     \u001b[0;32melse\u001b[0m\u001b[0;34m:\u001b[0m\u001b[0;34m\u001b[0m\u001b[0;34m\u001b[0m\u001b[0m\n",
            "\u001b[0;31mFileNotFoundError\u001b[0m: [Errno 2] No such file or directory: '/content/drive/My Drive/Colab Notebooks/Dataset_Arvores/Dataset_Arvores\\\\tree_01.jpg'"
          ]
        }
      ]
    },
    {
      "cell_type": "markdown",
      "source": [
        "#4 - Treinamento do Modelo"
      ],
      "metadata": {
        "id": "w6-4kM7hVGqk"
      }
    },
    {
      "cell_type": "markdown",
      "source": [
        "##a - Obter as imagens e os rótulos"
      ],
      "metadata": {
        "id": "nvTOXPhcViE8"
      }
    },
    {
      "cell_type": "code",
      "source": [
        "imagens = np.array(df_Arvores['image'].tolist())\n",
        "rotulos = df_Arvores['target'].values"
      ],
      "metadata": {
        "id": "Jqt9ydQpVq0F"
      },
      "execution_count": null,
      "outputs": []
    },
    {
      "cell_type": "markdown",
      "source": [
        "##b - Verificar as formas das imagens\n"
      ],
      "metadata": {
        "id": "nDOvfiQLeAw0"
      }
    },
    {
      "cell_type": "code",
      "source": [
        "print(imagens.shape)"
      ],
      "metadata": {
        "id": "ixxlPJgff_wT"
      },
      "execution_count": null,
      "outputs": []
    },
    {
      "cell_type": "markdown",
      "source": [
        "##c - Dividir as imagens e rótulos em conjuntos de treino e teste"
      ],
      "metadata": {
        "id": "DfVwmaCwWFsx"
      }
    },
    {
      "cell_type": "code",
      "source": [
        "X_train, X_test, y_train, y_test = train_test_split(imagens, rotulos, test_size=0.2, random_state=42)"
      ],
      "metadata": {
        "id": "5UdrcTdxWRwP"
      },
      "execution_count": null,
      "outputs": []
    },
    {
      "cell_type": "markdown",
      "source": [
        "##d - Construir o modelo CNN"
      ],
      "metadata": {
        "id": "umSAqsKsWXY7"
      }
    },
    {
      "cell_type": "code",
      "source": [
        "model = Sequential([\n",
        "    Conv2D(32, (3, 3), activation='relu', input_shape=(224, 224, 3)),\n",
        "    MaxPooling2D((2, 2)),\n",
        "    Conv2D(64, (3, 3), activation='relu'),\n",
        "    MaxPooling2D((2, 2)),\n",
        "    Conv2D(128, (3, 3), activation='relu'),\n",
        "    MaxPooling2D((2, 2)),\n",
        "    Flatten(),\n",
        "    Dense(128, activation='relu'),\n",
        "    Dense(10, activation='softmax')  # Supondo que você tenha 10 classes\n",
        "])\n"
      ],
      "metadata": {
        "id": "DiLa0AseWfNT"
      },
      "execution_count": null,
      "outputs": []
    },
    {
      "cell_type": "markdown",
      "source": [
        "##e - Compilar o modelo"
      ],
      "metadata": {
        "id": "hAVof3UmWl20"
      }
    },
    {
      "cell_type": "code",
      "source": [
        "model.compile(optimizer='adam', loss='sparse_categorical_crossentropy', metrics=['accuracy'])"
      ],
      "metadata": {
        "id": "1pIUx-lGWn8R"
      },
      "execution_count": null,
      "outputs": []
    },
    {
      "cell_type": "code",
      "source": [
        "##g - Treinar o modelo, lembrando que o modelo espera o seguinte formato de entrada (None, 224, 224, 3):"
      ],
      "metadata": {
        "id": "-YvlpPXyWwkf"
      },
      "execution_count": null,
      "outputs": []
    },
    {
      "cell_type": "code",
      "source": [
        "history = model.fit(X_train, y_train, epochs=10, validation_data=(X_test, y_test))\n"
      ],
      "metadata": {
        "id": "qzKiQ5M7WzuB"
      },
      "execution_count": null,
      "outputs": []
    },
    {
      "cell_type": "markdown",
      "source": [
        "##h - Avaliar o modelo"
      ],
      "metadata": {
        "id": "WoLRMCsHfRfx"
      }
    },
    {
      "cell_type": "code",
      "source": [
        "test_loss, test_acc = model.evaluate(X_test, y_test, verbose=2)\n",
        "print(f'\\nTest accuracy: {test_acc}')\n"
      ],
      "metadata": {
        "id": "uU2VkKWjfUUI"
      },
      "execution_count": null,
      "outputs": []
    },
    {
      "cell_type": "markdown",
      "source": [
        "##i - Plotar a acurácia e a perda durante o treinamento"
      ],
      "metadata": {
        "id": "h5z3nKMofYzo"
      }
    },
    {
      "cell_type": "code",
      "source": [
        "plt.plot(history.history['accuracy'], label='accuracy')\n",
        "plt.plot(history.history['val_accuracy'], label = 'val_accuracy')\n",
        "plt.xlabel('Epoch')\n",
        "plt.ylabel('Accuracy')\n",
        "plt.ylim([0, 1])\n",
        "plt.legend(loc='lower right')\n",
        "plt.show()\n",
        "\n",
        "plt.plot(history.history['loss'], label='loss')\n",
        "plt.plot(history.history['val_loss'], label = 'val_loss')\n",
        "plt.xlabel('Epoch')\n",
        "plt.ylabel('Loss')\n",
        "plt.legend(loc='upper right')\n",
        "plt.show()\n"
      ],
      "metadata": {
        "id": "jxcxiQNCWchu"
      },
      "execution_count": null,
      "outputs": []
    },
    {
      "cell_type": "code",
      "source": [
        "df_Arvores.head()"
      ],
      "metadata": {
        "id": "z1JS8ovXo9OR"
      },
      "execution_count": null,
      "outputs": []
    },
    {
      "cell_type": "code",
      "source": [
        "#montar um dataframe com o resultado do modelo das arvores que possuem target 3, 4, 5 com \"Latitude\", \"Longitude\" e \"prob%\"\n",
        "#df_resultado = df_Arvores[['Latitude', 'Longitude', 'prob%', 'Label']]\n",
        "df_resultado = df_Arvores[['Latitude', 'Longitude']]"
      ],
      "metadata": {
        "id": "xWD6mo0zUOMg"
      },
      "execution_count": null,
      "outputs": []
    },
    {
      "cell_type": "markdown",
      "source": [
        "# 5 - Avaliação do Modelo - aqui posso usar várias métricas para melhor avaliação"
      ],
      "metadata": {
        "id": "zxLknjV4W2Fz"
      }
    },
    {
      "cell_type": "markdown",
      "source": [
        "##a - Avaliação com Dados de Teste: Importante para obter a acurácia geral e a perda no conjunto de teste."
      ],
      "metadata": {
        "id": "DDUPFNC4mJFj"
      }
    },
    {
      "cell_type": "code",
      "source": [
        "test_loss, test_acc = model.evaluate(X_test, y_test, verbose=2)\n",
        "print(f'\\nTest accuracy: {test_acc}')"
      ],
      "metadata": {
        "id": "_lwa8kL4mZzk"
      },
      "execution_count": null,
      "outputs": []
    },
    {
      "cell_type": "markdown",
      "source": [
        "##b - Previsões do conjunto de testes"
      ],
      "metadata": {
        "id": "ORTe8N8zmhq6"
      }
    },
    {
      "cell_type": "code",
      "source": [
        "y_pred = model.predict(X_test)\n",
        "y_pred_classes = np.argmax(y_pred, axis=1)"
      ],
      "metadata": {
        "id": "Y3mhkrcMmrsb"
      },
      "execution_count": null,
      "outputs": []
    },
    {
      "cell_type": "markdown",
      "source": [
        "##c - Matriz de Confusão: Ajuda a visualizar os tipos de erros de classificação"
      ],
      "metadata": {
        "id": "3DGA9eq8nLfC"
      }
    },
    {
      "cell_type": "code",
      "source": [
        "conf_mat = confusion_matrix(y_test, y_pred_classes)\n",
        "plt.figure(figsize=(10, 8))\n",
        "sns.heatmap(conf_mat, annot=True, fmt='d', cmap='Blues')\n",
        "plt.xlabel('Classe Prevista')\n",
        "plt.ylabel('Classe Verdadeira')\n",
        "plt.title('Matriz de Confusão')\n",
        "plt.show()"
      ],
      "metadata": {
        "id": "7DBVC0ianUT_"
      },
      "execution_count": null,
      "outputs": []
    },
    {
      "cell_type": "markdown",
      "source": [
        "##d - Relatório de Classificação\n"
      ],
      "metadata": {
        "id": "u60SSvgTnZuE"
      }
    },
    {
      "cell_type": "code",
      "source": [
        "class_report = classification_report(y_test, y_pred_classes)\n",
        "print('Classification Report:')\n",
        "print(class_report)"
      ],
      "metadata": {
        "id": "2ta7AopAoJEs"
      },
      "execution_count": null,
      "outputs": []
    },
    {
      "cell_type": "markdown",
      "source": [
        "##e - Visualizar alguns erros de classificação\n"
      ],
      "metadata": {
        "id": "Vk_Qj7lRoRB9"
      }
    },
    {
      "cell_type": "code",
      "source": [
        "incorrect = np.where(y_pred_classes != y_test)[0]\n",
        "print(f'Number of misclassified samples: {len(incorrect)}')"
      ],
      "metadata": {
        "id": "PaJJaRLmoV80"
      },
      "execution_count": null,
      "outputs": []
    },
    {
      "cell_type": "code",
      "source": [
        "##f - Mostrar algumas imagens classificadas incorretamente"
      ],
      "metadata": {
        "id": "LLz8J3hwofbi"
      },
      "execution_count": null,
      "outputs": []
    },
    {
      "cell_type": "code",
      "source": [
        "\n",
        "num_show = 5\n",
        "for i, incorrect_idx in enumerate(incorrect[:num_show]):\n",
        "    plt.subplot(1, num_show, i + 1)\n",
        "    plt.imshow(X_test[incorrect_idx].astype('uint8'))\n",
        "    plt.title(f'True: {y_test[incorrect_idx]}, Pred: {y_pred_classes[incorrect_idx]}')\n",
        "    plt.axis('off')\n",
        "plt.show()"
      ],
      "metadata": {
        "id": "ZxWN05yNoeaH"
      },
      "execution_count": null,
      "outputs": []
    },
    {
      "cell_type": "markdown",
      "source": [
        "#6 - Fazer Previsões"
      ],
      "metadata": {
        "id": "gD4WKo0dqHDx"
      }
    },
    {
      "cell_type": "markdown",
      "source": [
        "##a - Função para carregar novas imagens a partir de um caminho"
      ],
      "metadata": {
        "id": "xZHgits7p9p9"
      }
    },
    {
      "cell_type": "code",
      "source": [
        "def load_new_image(image_path, target_size=(224, 224)):\n",
        "    img = image.load_img(image_path, target_size=target_size)\n",
        "    img_array = image.img_to_array(img)\n",
        "    img_array = np.expand_dims(img_array, axis=0)\n",
        "    img_array = img_array / 255.0  # Normalização\n",
        "    return img_array"
      ],
      "metadata": {
        "id": "fRxjtU7sqQf6"
      },
      "execution_count": null,
      "outputs": []
    },
    {
      "cell_type": "markdown",
      "source": [
        "##b - Lista de novos caminhos de imagem"
      ],
      "metadata": {
        "id": "BipDX3egqUo3"
      }
    },
    {
      "cell_type": "code",
      "source": [
        "#new_image_paths = ['/content/drive/My Drive/Colab Notebooks/Dataset_Arvores/new_image1.jpg',\n",
        " #                  '/content/drive/My Drive/Colab Notebooks/Dataset_Arvores/new_image2.jpg']\n",
        "\n",
        " # Usar imagens existentes no diretório Dataset_Arvores\n",
        "existing_image_paths = [\n",
        "    '/content/drive/My Drive/Colab Notebooks/Dataset_Arvores/tree01.jpg',\n",
        "    '/content/drive/My Drive/Colab Notebooks/Dataset_Arvores/tree02.jpg'\n",
        "]"
      ],
      "metadata": {
        "id": "NRyD9edzqZob"
      },
      "execution_count": null,
      "outputs": []
    },
    {
      "cell_type": "code",
      "source": [
        "# Verificar se os caminhos das imagens existem\n",
        "for img_path in existing_image_paths:\n",
        "    if not os.path.exists(img_path):\n",
        "        print(f'File not found: {img_path}')"
      ],
      "metadata": {
        "id": "MLWajKSVFxAl"
      },
      "execution_count": null,
      "outputs": []
    },
    {
      "cell_type": "code",
      "source": [
        "# Se todos os arquivos existirem, carregar e prever\n",
        "if all(os.path.exists(img_path) for img_path in existing_image_paths):\n",
        "    new_images = np.vstack([load_new_image(img_path) for img_path in existing_image_paths])\n",
        "    predictions = model.predict(new_images)\n",
        "    predicted_classes = np.argmax(predictions, axis=1)\n",
        "\n",
        "    # Exibir previsões\n",
        "    for i, img_path in enumerate(existing_image_paths):\n",
        "        print(f'Image: {img_path} -> Predicted Class: {predicted_classes[i]}')\n",
        "        img = image.load_img(img_path)\n",
        "        plt.imshow(img)\n",
        "        plt.title(f'Predicted Class: {predicted_classes[i]}')\n",
        "        plt.axis('off')\n",
        "        plt.show()\n",
        "else:\n",
        "    print(\"One or more image files were not found.\")"
      ],
      "metadata": {
        "id": "eADogQ1BF0qO"
      },
      "execution_count": null,
      "outputs": []
    },
    {
      "cell_type": "markdown",
      "source": [
        "##c - Carregar e prever novas imagens"
      ],
      "metadata": {
        "id": "YcnfgyIDqewT"
      }
    },
    {
      "cell_type": "code",
      "source": [
        "#definir caminho das novas imagens\n",
        "new_image_paths = [\n",
        "    '/content/drive/My Drive/Colab Notebooks/Dataset_Arvores/new_tree01.jpg',\n",
        "    '/content/drive/My Drive/Colab Notebooks/Dataset_Arvores/new_tree02.jpg'\n",
        "]"
      ],
      "metadata": {
        "id": "tGLz9bjk9MkX"
      },
      "execution_count": null,
      "outputs": []
    },
    {
      "cell_type": "code",
      "source": [
        "#função para carregar novas imagens\n",
        "def load_new_image(image_path):\n",
        "  img = image.load_img(image_path, target_size=(224,224))\n",
        "  img_array = image.img_to_array(img)\n",
        "  return np.expand_dims(img_array,axis=0)\n"
      ],
      "metadata": {
        "id": "Scqq5nLnCEiS"
      },
      "execution_count": null,
      "outputs": []
    },
    {
      "cell_type": "code",
      "source": [
        "# Função para monitorar o diretório de novas imagens e processar as imagens adicionadas\n",
        "def monitor_and_predict(model, new_images_dir, interval=60):\n",
        "    processed_images = set()  # Manter um registro de imagens já processadas\n",
        "\n",
        "    while True:\n",
        "        new_image_paths = [os.path.join(new_images_dir, img) for img in os.listdir(new_images_dir) if img.endswith('.jpg') or img.endswith('.png')]\n",
        "\n",
        "        # Filtrar imagens já processadas\n",
        "        unprocessed_images = [img for img in new_image_paths if img not in processed_images]\n",
        "\n",
        "        if unprocessed_images:\n",
        "            new_images_list = [load_new_image(img_path) for img_path in unprocessed_images]\n",
        "            new_images = np.vstack(new_images_list)\n",
        "\n",
        "            # Fazer previsões\n",
        "            predictions = model.predict(new_images)\n",
        "            predicted_classes = np.argmax(predictions, axis=1)\n",
        "\n",
        "            # Exibir as previsões\n",
        "            for img_path, predicted_class in zip(unprocessed_images, predicted_classes):\n",
        "                print(f\"Image: {img_path}, Predicted Class: {predicted_class}\")\n",
        "\n",
        "            # Atualizar a lista de imagens processadas\n",
        "            processed_images.update(unprocessed_images)\n",
        "\n",
        "        # Aguardar antes de verificar novamente\n",
        "        time.sleep(interval)"
      ],
      "metadata": {
        "id": "w-KhL8BSepu0"
      },
      "execution_count": null,
      "outputs": []
    },
    {
      "cell_type": "code",
      "source": [],
      "metadata": {
        "id": "T0OtQOhZetpj"
      },
      "execution_count": null,
      "outputs": []
    },
    {
      "cell_type": "code",
      "source": [
        "# Função para prever classes de novas imagens\n",
        "def predict_new_images(model, new_images_dir):\n",
        "    new_image_paths = [os.path.join(new_images_dir, img) for img in os.listdir(new_images_dir) if img.endswith('.jpg') or img.endswith('.png')]\n",
        "    new_images_list = [load_new_image(img_path) for img_path in new_image_paths]\n",
        "    new_images = np.vstack(new_images_list)"
      ],
      "metadata": {
        "id": "-wx7UaeWcHpS"
      },
      "execution_count": null,
      "outputs": []
    },
    {
      "cell_type": "code",
      "source": [
        "#carregar novas imagens\n",
        "new_images = np.vstack([load_new_image(img_path) for img_path in new_image_paths])"
      ],
      "metadata": {
        "id": "-peTUi5tEk1-"
      },
      "execution_count": null,
      "outputs": []
    },
    {
      "cell_type": "code",
      "source": [
        "new_images = np.vstack([load_new_image(img_path) for img_path in new_image_paths])\n",
        "predictions = model.predict(new_images)\n",
        "predicted_classes = np.argmax(predictions, axis=1)\n"
      ],
      "metadata": {
        "id": "GP5BkVgnqlYg"
      },
      "execution_count": null,
      "outputs": []
    },
    {
      "cell_type": "code",
      "source": [
        "# Fazer previsões\n",
        "predictions = model.predict(new_images)\n",
        "predicted_classes = np.argmax(predictions, axis=1)\n"
      ],
      "metadata": {
        "id": "DFE68kPGoq8i"
      },
      "execution_count": null,
      "outputs": []
    },
    {
      "cell_type": "code",
      "source": [
        "# Exibir as previsões\n",
        "for img_path, predicted_class in zip(new_image_paths, predicted_classes):\n",
        "       print(f\"Image: {img_path}, Predicted Class: {predicted_class}\")"
      ],
      "metadata": {
        "id": "iP6gijeXXrcH"
      },
      "execution_count": null,
      "outputs": []
    },
    {
      "cell_type": "code",
      "source": [
        "# Definir o diretório que contém as novas imagens\n",
        "new_images_dir = '/content/drive/My Drive/Colab Notebooks/Dataset_Arvores'"
      ],
      "metadata": {
        "id": "YJOP5ALBc_SH"
      },
      "execution_count": null,
      "outputs": []
    },
    {
      "cell_type": "code",
      "source": [
        "#salvar em arquivo csv as predições de queda de árvore\n"
      ],
      "metadata": {
        "id": "Jk2RPujGdEpA"
      },
      "execution_count": null,
      "outputs": []
    },
    {
      "cell_type": "code",
      "source": [],
      "metadata": {
        "id": "jbSGrxiod4tr"
      },
      "execution_count": null,
      "outputs": []
    }
  ]
}